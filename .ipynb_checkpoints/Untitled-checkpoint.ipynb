{
 "cells": [
  {
   "cell_type": "markdown",
   "metadata": {},
   "source": [
    "## processing mzXMLs"
   ]
  },
  {
   "cell_type": "code",
   "execution_count": 4,
   "metadata": {
    "collapsed": false
   },
   "outputs": [],
   "source": [
    "from pyteomics import mzxml"
   ]
  },
  {
   "cell_type": "code",
   "execution_count": 56,
   "metadata": {
    "collapsed": false
   },
   "outputs": [],
   "source": [
    "test = mzxml.read(\"../input_files/fava.mzXML\")"
   ]
  },
  {
   "cell_type": "code",
   "execution_count": 57,
   "metadata": {
    "collapsed": false
   },
   "outputs": [],
   "source": [
    "scans = []\n",
    "while True:\n",
    "    try:\n",
    "        next_scan = test.next()\n",
    "        i_arr = [round(val,2) for val in next_scan[\"intensity array\"]]\n",
    "        mz_arr = [round(val,2) for val in next_scan[\"m/z array\"]]\n",
    "        if len(next_scan[\"intensity array\"] == len(next_scan[\"m/z array\"])):\n",
    "            spectrum = []\n",
    "            for i in range(len(i_arr)):\n",
    "                spectrum.append({\"i\":i_arr[i], \"mz\":mz_arr[i]})\n",
    "            next_scan[\"spectrum\"] = spectrum\n",
    "            #next_scan.pop(\"intensity array\")\n",
    "            #next_scan.pop(\"m/z array\")\n",
    "        scans.append(next_scan)\n",
    "    except:\n",
    "        break"
   ]
  },
  {
   "cell_type": "code",
   "execution_count": 58,
   "metadata": {
    "collapsed": false
   },
   "outputs": [
    {
     "name": "stdout",
     "output_type": "stream",
     "text": [
      "57245.793\n",
      "[  605.43908691   644.67730713   934.22857666   647.04199219   726.3651123\n",
      "  3885.77514648   649.69805908   538.28100586  6103.18554688]\n",
      "[ 170.82728577  175.56465149  177.11170959  190.11987305  191.87342834\n",
      "  199.12489319  202.79116821  203.17211914  221.13800049]\n",
      "[{'i': 605.44, 'mz': 170.83}, {'i': 644.68, 'mz': 175.56}, {'i': 934.23, 'mz': 177.11}, {'i': 647.04, 'mz': 190.12}, {'i': 726.37, 'mz': 191.87}, {'i': 3885.78, 'mz': 199.12}, {'i': 649.7, 'mz': 202.79}, {'i': 538.28, 'mz': 203.17}, {'i': 6103.19, 'mz': 221.14}]\n"
     ]
    }
   ],
   "source": [
    "print scans[0][\"basePeakIntensity\"]\n",
    "print scans[0][\"intensity array\"][1:10]\n",
    "print scans[0][\"m/z array\"][1:10]\n",
    "print scans[0][\"spectrum\"][1:10]"
   ]
  },
  {
   "cell_type": "code",
   "execution_count": null,
   "metadata": {
    "collapsed": false
   },
   "outputs": [],
   "source": [
    "import json\n",
    "test = scans[1:5]"
   ]
  },
  {
   "cell_type": "code",
   "execution_count": null,
   "metadata": {
    "collapsed": false
   },
   "outputs": [],
   "source": [
    "with open(\"data/out.json\", \"w\") as outfile:\n",
    "    outfile.write(\"test\")"
   ]
  },
  {
   "cell_type": "code",
   "execution_count": null,
   "metadata": {
    "collapsed": true
   },
   "outputs": [],
   "source": [
    "import glob\n",
    "in_dir = \".\""
   ]
  },
  {
   "cell_type": "markdown",
   "metadata": {},
   "source": [
    "# uploading to FTP"
   ]
  },
  {
   "cell_type": "code",
   "execution_count": 1,
   "metadata": {
    "collapsed": true
   },
   "outputs": [],
   "source": [
    "import ftplib"
   ]
  },
  {
   "cell_type": "code",
   "execution_count": 27,
   "metadata": {
    "collapsed": false
   },
   "outputs": [
    {
     "name": "stdout",
     "output_type": "stream",
     "text": [
      "-rw-rw-r--    1 1200     1200     297083518 Jan 13 22:25 011216_Alex_1.mzXML\n",
      "-rw-rw-r--    1 1200     1200     323296438 Jan 13 22:24 011216_Alex_10.mzXML\n",
      "-rw-rw-r--    1 1200     1200     313911382 Jan 13 22:25 011216_Alex_11.mzXML\n",
      "-rw-rw-r--    1 1200     1200     321937831 Jan 13 22:25 011216_Alex_12.mzXML\n",
      "-rw-rw-r--    1 1200     1200     309499298 Jan 13 22:25 011216_Alex_13.mzXML\n",
      "-rw-rw-r--    1 1200     1200     323750766 Jan 13 22:24 011216_Alex_14.mzXML\n",
      "-rw-rw-r--    1 1200     1200     290898669 Jan 13 22:25 011216_Alex_2.mzXML\n",
      "-rw-rw-r--    1 1200     1200     267948132 Jan 13 22:24 011216_Alex_3.mzXML\n",
      "-rw-rw-r--    1 1200     1200     316060459 Jan 13 22:24 011216_Alex_4.mzXML\n",
      "-rw-rw-r--    1 1200     1200     303571363 Jan 13 22:25 011216_Alex_5.mzXML\n",
      "-rw-rw-r--    1 1200     1200     306402490 Jan 13 22:24 011216_Alex_6.mzXML\n",
      "-rw-rw-r--    1 1200     1200     308193467 Jan 13 22:25 011216_Alex_7.mzXML\n",
      "-rw-rw-r--    1 1200     1200     266272345 Jan 13 22:24 011216_Alex_8.mzXML\n",
      "-rw-rw-r--    1 1200     1200     328397613 Jan 13 22:25 011216_Alex_9.mzXML\n",
      "-rw-rw-r--    1 1200     1200     272419416 Jan 13 23:11 011316_Alex_15.mzXML\n",
      "-rw-rw-r--    1 1200     1200     303383930 Jan 13 23:11 011316_Alex_16.mzXML\n",
      "-rw-rw-r--    1 1200     1200     289703354 Jan 13 23:11 011316_Alex_19.mzXML\n",
      "-rw-rw-r--    1 1200     1200     300842731 Jan 13 23:11 011316_Alex_21.mzXML\n",
      "-rw-rw-r--    1 1200     1200     316236318 Jan 13 23:11 011316_Alex_23.mzXML\n",
      "-rw-rw-r--    1 1200     1200     338821675 Jan 13 23:11 011316_Alex_25.mzXML\n",
      "-rw-rw-r--    1 1200     1200     309039882 Jan 13 23:12 011316_Alex_26.mzXML\n",
      "-rw-rw-r--    1 1200     1200     297170950 Jan 13 23:12 011316_Alex_30.mzXML\n",
      "-rw-rw-r--    1 1200     1200     302315038 Jan 13 23:12 011316_Alex_31.mzXML\n",
      "-rw-rw-r--    1 1200     1200     315184289 Jan 13 23:12 011316_Alex_34.mzXML\n",
      "-rw-rw-r--    1 1200     1200     303637952 Jan 13 23:12 011316_Alex_36.mzXML\n",
      "-rw-rw-r--    1 1200     1200     332439215 Jan 13 23:12 011316_Alex_37.mzXML\n",
      "-rw-rw-r--    1 1200     1200     313674837 Jan 13 23:12 011316_Alex_39.mzXML\n",
      "-rw-rw-r--    1 1200     1200     312436162 Jan 13 23:12 011316_Alex_40.mzXML\n",
      "-rw-rw-r--    1 1200     1200     299342824 Jan 13 23:12 011316_Alex_41.mzXML\n",
      "-rw-rw-r--    1 1200     1200     304601258 Jan 13 23:12 011316_Alex_42.mzXML\n",
      "-rw-rw-r--    1 1200     1200     297536697 Jan 13 23:13 011316_Alex_44.mzXML\n",
      "lrwxrwxrwx    1 1200     1200           55 Apr 28  2016 16-04-20RootNoNod.mzXML -> /data/massive/MSV000079686/peak/16-04-20RootNoNod.mzXML\n",
      "lrwxrwxrwx    1 1200     1200           57 Apr 28  2016 16_04_19FavaNodule1.mzXML -> /data/massive/MSV000079686/peak/16_04_19FavaNodule1.mzXML\n",
      "lrwxrwxrwx    1 1200     1200           59 Apr 28  2016 16_04_19LupineNodule1.mzXML -> /data/massive/MSV000079686/peak/16_04_19LupineNodule1.mzXML\n",
      "lrwxrwxrwx    1 1200     1200           57 Apr 28  2016 16_04_20FavaNodule2.mzXML -> /data/massive/MSV000079686/peak/16_04_20FavaNodule2.mzXML\n",
      "lrwxrwxrwx    1 1200     1200           59 Apr 28  2016 16_04_20LupineNodule2.mzXML -> /data/massive/MSV000079686/peak/16_04_20LupineNodule2.mzXML\n",
      "lrwxrwxrwx    1 1200     1200           66 Apr 28  2016 16_04_25 LabgrownFavaNodule1.mzXML -> /data/massive/MSV000079686/peak/16_04_25 LabgrownFavaNodule1.mzXML\n",
      "-rw-rw-r--    1 1200     1200     41203297 Nov 08 17:42 5RN_100MeOH_110816.mzXML\n",
      "-rw-rw-r--    1 1200     1200        46974 Nov 08 17:41 5RN_100MeOH_110816_TARGET.mzXML\n",
      "drwxrwxr-x    2 1200     1200           17 Jul 19  2016 7.14.16_c3BA\n",
      "drwxrwxr-x    2 1200     1200            6 Jul 19  2016 7.18.16_C3BA\n",
      "-rw-rw-r--    1 1200     1200     42387685 Jun 07  2016 A1.mzXML\n",
      "-rw-rw-r--    1 1200     1200     42385558 Jun 07  2016 A2.mzXML\n",
      "-rw-rw-r--    1 1200     1200     42182283 Jun 07  2016 A3.mzXML\n",
      "-rw-rw-r--    1 1200     1200     43432405 Jun 21  2016 ACT_C3BA_062116.mzXML\n",
      "-rw-rw-r--    1 1200     1200     226048129 Oct 26 20:47 BIMERC_CoupControl1_093016.mzXML\n",
      "-rw-rw-r--    1 1200     1200     225163677 Oct 26 20:47 BIMERC_CoupControl2_093016.mzXML\n",
      "-rw-rw-r--    1 1200     1200     221858098 Oct 26 20:47 BIMERC_FL1_093016.mzXML\n",
      "-rw-rw-r--    1 1200     1200     221878616 Oct 26 20:47 BIMERC_FU1_093016.mzXML\n",
      "-rw-rw-r--    1 1200     1200     220237482 Oct 26 20:47 BIMERC_RL1_093016.mzXML\n",
      "-rw-rw-r--    1 1200     1200     220893702 Oct 26 20:47 BIMERC_RU1_093016.mzXML\n",
      "-rw-rw-r--    1 1200     1200     221394520 Oct 26 20:47 BIMERC_T1_093016.mzXML\n",
      "-rw-rw-r--    1 1200     1200     221903010 Oct 26 20:47 BIMERC_T4_093016.mzXML\n",
      "-rw-rw-r--    1 1200     1200     240702369 Oct 26 20:46 BIMERC_TileControl1_093016.mzXML\n",
      "-rw-rw-r--    1 1200     1200     227704893 Oct 26 20:46 BIMERC_TileControl2_093016.mzXML\n",
      "drwxrwxr-x    3 1200     1200            3 Jul 20  2016 Bailey\n",
      "-rw-rw-r--    1 1200     1200     42680466 Jun 07  2016 C1.mzXML\n",
      "-rw-rw-r--    1 1200     1200     41357939 Jun 07  2016 C2.mzXML\n",
      "-rw-rw-r--    1 1200     1200     42006351 Jun 07  2016 C3.mzXML\n",
      "-rw-rw-r--    1 1200     1200     227153028 Oct 26 20:46 C3BA1_Droplet_101916.mzXML\n",
      "-rw-rw-r--    1 1200     1200     228836800 Oct 26 20:46 C3BA2_Droplet_101916.mzXML\n",
      "-rw-rw-r--    1 1200     1200     228127089 Oct 26 20:46 C3BA3_Droplet_101916.mzXML\n",
      "-rw-rw-r--    1 1200     1200     32510384 Jun 14  2016 C3BA_AqueousSN_liqliqext.mzXML\n",
      "-rw-rw-r--    1 1200     1200     45571621 Jul 14  2016 C3BA_Day6_ACT_EtAc_071416_160714104744.mzXML\n",
      "-rw-rw-r--    1 1200     1200     41792394 Jun 14  2016 C3BA_OrganicSN_liqliqext.mzXML\n",
      "-rw-rw-r--    1 1200     1200     50253550 Jul 28  2016 C3BA_PlateColony_100MeOH_072816.mzXML\n",
      "-rw-rw-r--    1 1200     1200     37482232 Nov 16 21:28 C3BA_XAD2_10D_LLCHLORO_100MeOH_111016_120_ACN.mzXML\n",
      "-rw-rw-r--    1 1200     1200     43489066 Nov 16 21:28 C3BA_XAD2_10D_LLCHLORO_100MeOH_111016_PA2.mzXML\n",
      "-rw-rw-r--    1 1200     1200     41647474 Nov 16 21:28 C3BA_XAD2_10D_LLCHLORO_100MeOH_111016_PA2_ACN.mzXML\n",
      "-rw-rw-r--    1 1200     1200     41403896 Jul 14  2016 C3BA_day3_ACT_100MeOH_071416.mzXML\n",
      "-rw-rw-r--    1 1200     1200     45256836 Jul 14  2016 C3BA_day3_ACT_50MeOH_071416.mzXML\n",
      "-rw-rw-r--    1 1200     1200     45072449 Jul 14  2016 C3BA_day3_ACT_EtAc_071416.mzXML\n",
      "-rw-rw-r--    1 1200     1200     43972615 Jul 14  2016 C3BA_day6_ACT_100MeOH_071416.mzXML\n",
      "-rw-rw-r--    1 1200     1200     42217049 Jul 14  2016 C3BA_day6_ACT_50MeOH_071416.mzXML\n",
      "-rw-rw-r--    1 1200     1200     43249351 Jul 14  2016 C3BA_day6_ACT_50MeOH_071416_160714110408.mzXML\n",
      "-rw-rw-r--    1 1200     1200     44590977 Jul 14  2016 C3BA_day6_ACT_EtAc2_071416.mzXML\n",
      "-rw-rw-r--    1 1200     1200     50018266 Jul 14  2016 C3BA_day6_ACT_EtAc_071416.mzXML\n",
      "-rw-rw-r--    1 1200     1200     42422763 Jul 14  2016 C3BA_day6_MMAACA_50MeOH_071416.mzXML\n",
      "-rw-rw-r--    1 1200     1200     28896492 Jul 14  2016 C3BA_day6_MMAA_50MeOH_071416.mzXML\n",
      "-rw-rw-r--    1 1200     1200     25246742 Jul 14  2016 C3BA_day9_ACT_100MeOH_071416.mzXML\n",
      "-rw-rw-r--    1 1200     1200         1630 Jul 14  2016 C3BA_day9_ACT_50MeOH_071416.mzXML\n",
      "-rw-rw-r--    1 1200     1200     44699319 Jul 14  2016 C3BA_day9_ACT_EtAc_071416.mzXML\n",
      "-rw-rw-r--    1 1200     1200     45689296 Jun 02  2016 C3BAfavastrepextract_06_02_16.mzXML\n",
      "-rw-rw-r--    1 1200     1200     43474881 Jun 02  2016 C3Bfavastrepextract_06_02_16.mzXML\n",
      "-rw-rw-r--    1 1200     1200     42746922 Jun 08  2016 C_3BLIQEXT060716.mzXML\n",
      "-rw-rw-r--    1 1200     1200     44864296 Jun 02  2016 D4AAfavastrepextract_06_02_16.mzXML\n",
      "-rw-rw-r--    1 1200     1200     44802734 Jun 02  2016 D4ACfavastrepextract_06_02_16.mzXML\n",
      "-rw-rw-r--    1 1200     1200     32088691 Jun 14  2016 D4A_AqueousSN_liqliqext.mzXML\n",
      "-rw-rw-r--    1 1200     1200     32877721 Jun 14  2016 D4A_OrganicSN_liqliqext.mzXML\n",
      "-rw-rw-r--    1 1200     1200     40769942 Nov 16 21:28 D4A_XAD2_10D_LLCHLORO_100MeOH_111016_120_ACN.mzXML\n",
      "-rw-rw-r--    1 1200     1200     43641749 Nov 16 21:28 D4A_XAD2_10D_LLCHLORO_100MeOH_111016_PA2.mzXML\n",
      "-rw-rw-r--    1 1200     1200     44626444 Nov 16 21:28 D4A_XAD2_10D_LLCHLORO_100MeOH_111016_PA2_ACN.mzXML\n",
      "-rw-rw-r--    1 1200     1200     45229958 Jun 02  2016 D4Afavastrepextract_06_02_16.mzXML\n",
      "drwxrwxr-x    2 1200     1200           22 Jan 19 22:34 DylanMcClung\n",
      "lrwxrwxrwx    1 1200     1200           44 May 03  2016 ET+Fe2.mzXML -> /data/massive/MSV000079695/peak/ET+Fe2.mzXML\n",
      "lrwxrwxrwx    1 1200     1200           42 May 03  2016 ET+I.mzXML -> /data/massive/MSV000079695/peak/ET+I.mzXML\n",
      "lrwxrwxrwx    1 1200     1200           42 May 03  2016 ET-I.mzXML -> /data/massive/MSV000079695/peak/ET-I.mzXML\n",
      "lrwxrwxrwx    1 1200     1200           42 May 03  2016 ETC-.mzXML -> /data/massive/MSV000079695/peak/ETC-.mzXML\n",
      "-rw-rw-r--    1 1200     1200     43532711 Jul 14  2016 FN32_50MeOH_071416.mzXML\n",
      "-rw-rw-r--    1 1200     1200     40087942 Jun 14  2016 FP2A_EXTLIQ_061316.mzXML\n",
      "-rw-rw-r--    1 1200     1200     41728638 Jun 08  2016 FP3_2ALIQEXT060716.mzXML\n",
      "-rw-rw-r--    1 1200     1200     43324496 Jun 08  2016 FP4ALIQEXT060716.mzXML\n",
      "-rw-rw-r--    1 1200     1200     41695197 Jun 14  2016 FP4C_EXTLIQ_061316.mzXML\n",
      "-rw-rw-r--    1 1200     1200     42567092 Jun 07  2016 I1-1.mzXML\n",
      "-rw-rw-r--    1 1200     1200     42579084 Jun 07  2016 I1-2.mzXML\n",
      "-rw-rw-r--    1 1200     1200     42223877 Jun 07  2016 I1-3.mzXML\n",
      "-rw-rw-r--    1 1200     1200     42489451 Jun 07  2016 I1-4.mzXML\n",
      "-rw-rw-r--    1 1200     1200     42907658 Jun 07  2016 I1-5.mzXML\n",
      "-rw-rw-r--    1 1200     1200     42324544 Jun 07  2016 I1-6.mzXML\n",
      "-rw-rw-r--    1 1200     1200     42304689 Jun 07  2016 I2-1.mzXML\n",
      "-rw-rw-r--    1 1200     1200     42247951 Jun 07  2016 I2-2.mzXML\n",
      "-rw-rw-r--    1 1200     1200     41846340 Jun 07  2016 I2-3.mzXML\n",
      "-rw-rw-r--    1 1200     1200     42786424 Jun 07  2016 I2-4.mzXML\n",
      "-rw-rw-r--    1 1200     1200     42326115 Jun 07  2016 I2-5.mzXML\n",
      "-rw-rw-r--    1 1200     1200     42384217 Jun 07  2016 I2-6.mzXML\n",
      "-rw-rw-r--    1 1200     1200     42398663 Jun 07  2016 I3-1.mzXML\n",
      "-rw-rw-r--    1 1200     1200     42809854 Jun 07  2016 I3-2.mzXML\n",
      "-rw-rw-r--    1 1200     1200     42359991 Jun 07  2016 I3-3.mzXML\n",
      "-rw-rw-r--    1 1200     1200     42777333 Jun 07  2016 I3-4.mzXML\n",
      "-rw-rw-r--    1 1200     1200     42810220 Jun 07  2016 I3-5.mzXML\n",
      "-rw-rw-r--    1 1200     1200     42554982 Jun 07  2016 I3-6.mzXML\n",
      "-rw-rw-r--    1 1200     1200     41702419 Jun 21  2016 ISPIIAA_C3BA_062116.mzXML\n",
      "-rw-rw-r--    1 1200     1200     71233192 Jun 24  2016 Karthik_+(2).mzML\n",
      "-rw-rw-r--    1 1200     1200     43643273 Jun 21  2016 Karthik_+.mzXML\n",
      "-rw-rw-r--    1 1200     1200     73309684 Jun 24  2016 Karthik_-(2).mzML\n",
      "-rw-rw-r--    1 1200     1200     42925599 Jun 21  2016 Karthik_-.mzXML\n",
      "-rw-rw-r--    1 1200     1200     43582523 Jun 21  2016 MMAA_C3BA_062116.mzXML\n",
      "-rw-rw-r--    1 1200     1200     43232703 Jun 21  2016 MM_C3BA_062116.mzXML\n",
      "lrwxrwxrwx    1 1200     1200           46 May 03  2016 MeOH+Fe2.mzXML -> /data/massive/MSV000079695/peak/MeOH+Fe2.mzXML\n",
      "lrwxrwxrwx    1 1200     1200           44 May 03  2016 MeOH+I.mzXML -> /data/massive/MSV000079695/peak/MeOH+I.mzXML\n",
      "lrwxrwxrwx    1 1200     1200           44 May 03  2016 MeOH-I.mzXML -> /data/massive/MSV000079695/peak/MeOH-I.mzXML\n",
      "lrwxrwxrwx    1 1200     1200           44 May 03  2016 MeOHC-.mzXML -> /data/massive/MSV000079695/peak/MeOHC-.mzXML\n",
      "-rw-rw-r--    1 1200     1200     334479244 Jan 13 23:13 MeOH_170113075144.mzXML\n",
      "-rw-rw-r--    1 1200     1200     42134914 Jun 07  2016 S1.mzXML\n",
      "-rw-rw-r--    1 1200     1200     42213264 Jun 07  2016 S2.mzXML\n",
      "-rw-rw-r--    1 1200     1200     42317808 Jun 07  2016 S3.mzXML\n",
      "-rw-rw-r--    1 1200     1200     222245399 Oct 26 20:46 USActino_VR26_Droplet_101916.mzXML\n",
      "-rw-rw-r--    1 1200     1200     136582600 Feb 03 23:00 alex_ms.tar.gz\n",
      "lrwxrwxrwx    1 1200     1200           76 May 12  2016 direct infusion root nodule octopeptide.mzML -> /data/massive/MSV000079721/peak/direct infusion root nodule octopeptide.mzML\n",
      "-rw-rw-r--    1 1200     1200     47521792 May 24  2016 favanoduleP2051916.mzXML\n",
      "-rw-rw-r--    1 1200     1200     43116064 May 24  2016 favanoduleP3-1051916.mzXML\n",
      "-rw-rw-r--    1 1200     1200     46290306 May 24  2016 favanoduleP3-2051917.mzXML\n",
      "-rw-rw-r--    1 1200     1200     46401274 May 24  2016 favanoduleP4051918.mzXML\n",
      "-rw-rw-r--    1 1200     1200        91522 May 25  2016 wildnodP2_05_25_16.mzXML\n",
      "-rw-rw-r--    1 1200     1200        87432 May 25  2016 wildnodP2_05_25_16_160525115310.mzXML\n",
      "-rw-rw-r--    1 1200     1200        94146 May 25  2016 wildnodP31_05_25_17.mzXML\n",
      "-rw-rw-r--    1 1200     1200       112991 May 25  2016 wildnodP31_05_25_17_160525120930.mzXML\n",
      "-rw-rw-r--    1 1200     1200        86039 May 25  2016 wildnodP32_05_25_18.mzXML\n",
      "-rw-rw-r--    1 1200     1200       155258 May 25  2016 wildnodP32_05_25_18_160525122548.mzXML\n",
      "-rw-rw-r--    1 1200     1200        69638 May 25  2016 wildnodP4_05_25_19.mzXML\n",
      "-rw-rw-r--    1 1200     1200        58723 May 25  2016 wildnodP4_05_25_19_160525124206.mzXML\n"
     ]
    },
    {
     "data": {
      "text/plain": [
       "'221 Goodbye.'"
      ]
     },
     "execution_count": 27,
     "metadata": {},
     "output_type": "execute_result"
    }
   ],
   "source": [
    "filename = \"test.mzXML\"\n",
    "ftp = ftplib.FTP(\"ccms-ftp01.ucsd.edu\")\n",
    "ftp.login(\"Trax_lab\",\"Stormborn\")\n",
    "#myfile = open(\"../viz/scripts/json.mzXML\", \"rb\")\n",
    "#ftp.storbinary(\"STOR \" + filename, myfile)\n",
    "ftp.delete(filename)\n",
    "ftp.dir()\n",
    "ftp.quit()"
   ]
  },
  {
   "cell_type": "markdown",
   "metadata": {
    "collapsed": true
   },
   "source": [
    "# Comparing compound tables"
   ]
  },
  {
   "cell_type": "code",
   "execution_count": 3,
   "metadata": {
    "collapsed": false
   },
   "outputs": [],
   "source": [
    "import seaborn as sns\n",
    "import pandas as pd"
   ]
  },
  {
   "cell_type": "code",
   "execution_count": null,
   "metadata": {
    "collapsed": true
   },
   "outputs": [],
   "source": [
    "normalized = pd.read_table(\"\")\n",
    "raw = pd.read_table(\"\")"
   ]
  },
  {
   "cell_type": "code",
   "execution_count": null,
   "metadata": {
    "collapsed": true
   },
   "outputs": [],
   "source": [
    "plt.figure(figsize=(6,7))\n",
    "sns.heatmap(, annot=True, cmap='Blues', fmt='g')\n",
    "plt.title(\"Compound Table\")\n",
    "#plt.xticks(rotation=60, ha=\"right\")\n",
    "plt.show()"
   ]
  },
  {
   "cell_type": "markdown",
   "metadata": {},
   "source": [
    "## processing compound table"
   ]
  },
  {
   "cell_type": "code",
   "execution_count": 193,
   "metadata": {
    "collapsed": false
   },
   "outputs": [],
   "source": [
    "import pandas as pd\n",
    "\n",
    "def merge_vars(row):\n",
    "    new = row[\"Compound\"] + '|' + row[\"Mass\"]\n",
    "    return new\n",
    "\n",
    "table = pd.read_csv(\"../input_files/compounds_table_subset_filtered.txt\")\n",
    "#table[\"cmpd\"] = table.apply(merge_vars, axis=1)\n",
    "#table2 = table.drop([\"Compound\",\"Mass\"],1)\n",
    "#table3 = table2.set_index([\"cmpd\"], drop=True)\n",
    "#table4 = table3.transpose()\n",
    "r = list(table.Compound)\n",
    "c = list(table.columns)\n",
    "melt = pd.melt(table, id_vars=[\"Compound\", \"Mass\"], value_vars=list(table.columns[2:len(table.columns)]))\n",
    "melt[\"col\"] = melt[\"Compound\"].apply(lambda x: r.index(x) + 1)\n",
    "melt[\"row\"] = melt[\"variable\"].apply(lambda x: c.index(x) - 1)\n",
    "melt[\"var\"] = melt[\"variable\"].apply(lambda x: x.split(\"/\")[(len(x.split(\"/\"))-1)].replace(\".mzXML\",\"\"))\n",
    "melt[\"cmpd\"] = melt[\"Compound\"].apply(lambda x: x.replace(\"compound_\",\"#\"))\n",
    "melt2 = melt.drop([\"variable\", \"Compound\"], 1)"
   ]
  },
  {
   "cell_type": "code",
   "execution_count": 195,
   "metadata": {
    "collapsed": false
   },
   "outputs": [],
   "source": [
    "melt2.to_csv(\"data/cmpd_table_melted.tsv\", sep=\"\\t\", index=False)"
   ]
  },
  {
   "cell_type": "code",
   "execution_count": 194,
   "metadata": {
    "collapsed": false
   },
   "outputs": [
    {
     "data": {
      "text/html": [
       "<div>\n",
       "<table border=\"1\" class=\"dataframe\">\n",
       "  <thead>\n",
       "    <tr style=\"text-align: right;\">\n",
       "      <th></th>\n",
       "      <th>Mass</th>\n",
       "      <th>value</th>\n",
       "      <th>col</th>\n",
       "      <th>row</th>\n",
       "      <th>var</th>\n",
       "      <th>cmpd</th>\n",
       "    </tr>\n",
       "  </thead>\n",
       "  <tbody>\n",
       "    <tr>\n",
       "      <th>0</th>\n",
       "      <td>400.096102583+-0.4885</td>\n",
       "      <td>5577725.5</td>\n",
       "      <td>1</td>\n",
       "      <td>1</td>\n",
       "      <td>LG60FAVA_2_1_071816</td>\n",
       "      <td>#7104</td>\n",
       "    </tr>\n",
       "    <tr>\n",
       "      <th>1</th>\n",
       "      <td>400.818834931+-0.4297</td>\n",
       "      <td>4224517.5</td>\n",
       "      <td>2</td>\n",
       "      <td>1</td>\n",
       "      <td>LG60FAVA_2_1_071816</td>\n",
       "      <td>#7115</td>\n",
       "    </tr>\n",
       "    <tr>\n",
       "      <th>2</th>\n",
       "      <td>400.414683024+-0.0001</td>\n",
       "      <td>1637614.5</td>\n",
       "      <td>3</td>\n",
       "      <td>1</td>\n",
       "      <td>LG60FAVA_2_1_071816</td>\n",
       "      <td>#7123</td>\n",
       "    </tr>\n",
       "    <tr>\n",
       "      <th>3</th>\n",
       "      <td>400.905181885+-0.1144</td>\n",
       "      <td>0.0</td>\n",
       "      <td>4</td>\n",
       "      <td>1</td>\n",
       "      <td>LG60FAVA_2_1_071816</td>\n",
       "      <td>#7128</td>\n",
       "    </tr>\n",
       "    <tr>\n",
       "      <th>4</th>\n",
       "      <td>400.806091309+-0.0</td>\n",
       "      <td>0.0</td>\n",
       "      <td>5</td>\n",
       "      <td>1</td>\n",
       "      <td>LG60FAVA_2_1_071816</td>\n",
       "      <td>#7129</td>\n",
       "    </tr>\n",
       "  </tbody>\n",
       "</table>\n",
       "</div>"
      ],
      "text/plain": [
       "                    Mass      value  col  row                  var   cmpd\n",
       "0  400.096102583+-0.4885  5577725.5    1    1  LG60FAVA_2_1_071816  #7104\n",
       "1  400.818834931+-0.4297  4224517.5    2    1  LG60FAVA_2_1_071816  #7115\n",
       "2  400.414683024+-0.0001  1637614.5    3    1  LG60FAVA_2_1_071816  #7123\n",
       "3  400.905181885+-0.1144        0.0    4    1  LG60FAVA_2_1_071816  #7128\n",
       "4     400.806091309+-0.0        0.0    5    1  LG60FAVA_2_1_071816  #7129"
      ]
     },
     "execution_count": 194,
     "metadata": {},
     "output_type": "execute_result"
    }
   ],
   "source": [
    "melt2.head()"
   ]
  },
  {
   "cell_type": "code",
   "execution_count": null,
   "metadata": {
    "collapsed": true
   },
   "outputs": [],
   "source": []
  }
 ],
 "metadata": {
  "kernelspec": {
   "display_name": "Python 2",
   "language": "python",
   "name": "python2"
  },
  "language_info": {
   "codemirror_mode": {
    "name": "ipython",
    "version": 2
   },
   "file_extension": ".py",
   "mimetype": "text/x-python",
   "name": "python",
   "nbconvert_exporter": "python",
   "pygments_lexer": "ipython2",
   "version": "2.7.13"
  }
 },
 "nbformat": 4,
 "nbformat_minor": 0
}
