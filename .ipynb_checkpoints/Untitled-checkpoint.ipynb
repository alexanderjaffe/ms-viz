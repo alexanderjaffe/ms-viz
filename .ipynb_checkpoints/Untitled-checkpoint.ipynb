{
 "cells": [
  {
   "cell_type": "markdown",
   "metadata": {},
   "source": [
    "## processing mzXMLs"
   ]
  },
  {
   "cell_type": "code",
   "execution_count": 4,
   "metadata": {
    "collapsed": false
   },
   "outputs": [],
   "source": [
    "from pyteomics import mzxml"
   ]
  },
  {
   "cell_type": "code",
   "execution_count": 56,
   "metadata": {
    "collapsed": false
   },
   "outputs": [],
   "source": [
    "test = mzxml.read(\"../input_files/fava.mzXML\")"
   ]
  },
  {
   "cell_type": "code",
   "execution_count": 57,
   "metadata": {
    "collapsed": false
   },
   "outputs": [],
   "source": [
    "scans = []\n",
    "while True:\n",
    "    try:\n",
    "        next_scan = test.next()\n",
    "        i_arr = [round(val,2) for val in next_scan[\"intensity array\"]]\n",
    "        mz_arr = [round(val,2) for val in next_scan[\"m/z array\"]]\n",
    "        if len(next_scan[\"intensity array\"] == len(next_scan[\"m/z array\"])):\n",
    "            spectrum = []\n",
    "            for i in range(len(i_arr)):\n",
    "                spectrum.append({\"i\":i_arr[i], \"mz\":mz_arr[i]})\n",
    "            next_scan[\"spectrum\"] = spectrum\n",
    "            #next_scan.pop(\"intensity array\")\n",
    "            #next_scan.pop(\"m/z array\")\n",
    "        scans.append(next_scan)\n",
    "    except:\n",
    "        break"
   ]
  },
  {
   "cell_type": "code",
   "execution_count": 58,
   "metadata": {
    "collapsed": false
   },
   "outputs": [
    {
     "name": "stdout",
     "output_type": "stream",
     "text": [
      "57245.793\n",
      "[  605.43908691   644.67730713   934.22857666   647.04199219   726.3651123\n",
      "  3885.77514648   649.69805908   538.28100586  6103.18554688]\n",
      "[ 170.82728577  175.56465149  177.11170959  190.11987305  191.87342834\n",
      "  199.12489319  202.79116821  203.17211914  221.13800049]\n",
      "[{'i': 605.44, 'mz': 170.83}, {'i': 644.68, 'mz': 175.56}, {'i': 934.23, 'mz': 177.11}, {'i': 647.04, 'mz': 190.12}, {'i': 726.37, 'mz': 191.87}, {'i': 3885.78, 'mz': 199.12}, {'i': 649.7, 'mz': 202.79}, {'i': 538.28, 'mz': 203.17}, {'i': 6103.19, 'mz': 221.14}]\n"
     ]
    }
   ],
   "source": [
    "print scans[0][\"basePeakIntensity\"]\n",
    "print scans[0][\"intensity array\"][1:10]\n",
    "print scans[0][\"m/z array\"][1:10]\n",
    "print scans[0][\"spectrum\"][1:10]"
   ]
  },
  {
   "cell_type": "code",
   "execution_count": null,
   "metadata": {
    "collapsed": false
   },
   "outputs": [],
   "source": [
    "import json\n",
    "test = scans[1:5]"
   ]
  },
  {
   "cell_type": "code",
   "execution_count": null,
   "metadata": {
    "collapsed": false
   },
   "outputs": [],
   "source": [
    "with open(\"data/out.json\", \"w\") as outfile:\n",
    "    outfile.write(\"test\")"
   ]
  },
  {
   "cell_type": "code",
   "execution_count": null,
   "metadata": {
    "collapsed": true
   },
   "outputs": [],
   "source": [
    "import glob\n",
    "in_dir = \".\""
   ]
  },
  {
   "cell_type": "markdown",
   "metadata": {},
   "source": [
    "# uploading to FTP"
   ]
  },
  {
   "cell_type": "code",
   "execution_count": 1,
   "metadata": {
    "collapsed": true
   },
   "outputs": [],
   "source": [
    "import ftplib"
   ]
  },
  {
   "cell_type": "code",
   "execution_count": 27,
   "metadata": {
    "collapsed": false
   },
   "outputs": [
    {
     "name": "stdout",
     "output_type": "stream",
     "text": [
      "-rw-rw-r--    1 1200     1200     297083518 Jan 13 22:25 011216_Alex_1.mzXML\n",
      "-rw-rw-r--    1 1200     1200     323296438 Jan 13 22:24 011216_Alex_10.mzXML\n",
      "-rw-rw-r--    1 1200     1200     313911382 Jan 13 22:25 011216_Alex_11.mzXML\n",
      "-rw-rw-r--    1 1200     1200     321937831 Jan 13 22:25 011216_Alex_12.mzXML\n",
      "-rw-rw-r--    1 1200     1200     309499298 Jan 13 22:25 011216_Alex_13.mzXML\n",
      "-rw-rw-r--    1 1200     1200     323750766 Jan 13 22:24 011216_Alex_14.mzXML\n",
      "-rw-rw-r--    1 1200     1200     290898669 Jan 13 22:25 011216_Alex_2.mzXML\n",
      "-rw-rw-r--    1 1200     1200     267948132 Jan 13 22:24 011216_Alex_3.mzXML\n",
      "-rw-rw-r--    1 1200     1200     316060459 Jan 13 22:24 011216_Alex_4.mzXML\n",
      "-rw-rw-r--    1 1200     1200     303571363 Jan 13 22:25 011216_Alex_5.mzXML\n",
      "-rw-rw-r--    1 1200     1200     306402490 Jan 13 22:24 011216_Alex_6.mzXML\n",
      "-rw-rw-r--    1 1200     1200     308193467 Jan 13 22:25 011216_Alex_7.mzXML\n",
      "-rw-rw-r--    1 1200     1200     266272345 Jan 13 22:24 011216_Alex_8.mzXML\n",
      "-rw-rw-r--    1 1200     1200     328397613 Jan 13 22:25 011216_Alex_9.mzXML\n",
      "-rw-rw-r--    1 1200     1200     272419416 Jan 13 23:11 011316_Alex_15.mzXML\n",
      "-rw-rw-r--    1 1200     1200     303383930 Jan 13 23:11 011316_Alex_16.mzXML\n",
      "-rw-rw-r--    1 1200     1200     289703354 Jan 13 23:11 011316_Alex_19.mzXML\n",
      "-rw-rw-r--    1 1200     1200     300842731 Jan 13 23:11 011316_Alex_21.mzXML\n",
      "-rw-rw-r--    1 1200     1200     316236318 Jan 13 23:11 011316_Alex_23.mzXML\n",
      "-rw-rw-r--    1 1200     1200     338821675 Jan 13 23:11 011316_Alex_25.mzXML\n",
      "-rw-rw-r--    1 1200     1200     309039882 Jan 13 23:12 011316_Alex_26.mzXML\n",
      "-rw-rw-r--    1 1200     1200     297170950 Jan 13 23:12 011316_Alex_30.mzXML\n",
      "-rw-rw-r--    1 1200     1200     302315038 Jan 13 23:12 011316_Alex_31.mzXML\n",
      "-rw-rw-r--    1 1200     1200     315184289 Jan 13 23:12 011316_Alex_34.mzXML\n",
      "-rw-rw-r--    1 1200     1200     303637952 Jan 13 23:12 011316_Alex_36.mzXML\n",
      "-rw-rw-r--    1 1200     1200     332439215 Jan 13 23:12 011316_Alex_37.mzXML\n",
      "-rw-rw-r--    1 1200     1200     313674837 Jan 13 23:12 011316_Alex_39.mzXML\n",
      "-rw-rw-r--    1 1200     1200     312436162 Jan 13 23:12 011316_Alex_40.mzXML\n",
      "-rw-rw-r--    1 1200     1200     299342824 Jan 13 23:12 011316_Alex_41.mzXML\n",
      "-rw-rw-r--    1 1200     1200     304601258 Jan 13 23:12 011316_Alex_42.mzXML\n",
      "-rw-rw-r--    1 1200     1200     297536697 Jan 13 23:13 011316_Alex_44.mzXML\n",
      "lrwxrwxrwx    1 1200     1200           55 Apr 28  2016 16-04-20RootNoNod.mzXML -> /data/massive/MSV000079686/peak/16-04-20RootNoNod.mzXML\n",
      "lrwxrwxrwx    1 1200     1200           57 Apr 28  2016 16_04_19FavaNodule1.mzXML -> /data/massive/MSV000079686/peak/16_04_19FavaNodule1.mzXML\n",
      "lrwxrwxrwx    1 1200     1200           59 Apr 28  2016 16_04_19LupineNodule1.mzXML -> /data/massive/MSV000079686/peak/16_04_19LupineNodule1.mzXML\n",
      "lrwxrwxrwx    1 1200     1200           57 Apr 28  2016 16_04_20FavaNodule2.mzXML -> /data/massive/MSV000079686/peak/16_04_20FavaNodule2.mzXML\n",
      "lrwxrwxrwx    1 1200     1200           59 Apr 28  2016 16_04_20LupineNodule2.mzXML -> /data/massive/MSV000079686/peak/16_04_20LupineNodule2.mzXML\n",
      "lrwxrwxrwx    1 1200     1200           66 Apr 28  2016 16_04_25 LabgrownFavaNodule1.mzXML -> /data/massive/MSV000079686/peak/16_04_25 LabgrownFavaNodule1.mzXML\n",
      "-rw-rw-r--    1 1200     1200     41203297 Nov 08 17:42 5RN_100MeOH_110816.mzXML\n",
      "-rw-rw-r--    1 1200     1200        46974 Nov 08 17:41 5RN_100MeOH_110816_TARGET.mzXML\n",
      "drwxrwxr-x    2 1200     1200           17 Jul 19  2016 7.14.16_c3BA\n",
      "drwxrwxr-x    2 1200     1200            6 Jul 19  2016 7.18.16_C3BA\n",
      "-rw-rw-r--    1 1200     1200     42387685 Jun 07  2016 A1.mzXML\n",
      "-rw-rw-r--    1 1200     1200     42385558 Jun 07  2016 A2.mzXML\n",
      "-rw-rw-r--    1 1200     1200     42182283 Jun 07  2016 A3.mzXML\n",
      "-rw-rw-r--    1 1200     1200     43432405 Jun 21  2016 ACT_C3BA_062116.mzXML\n",
      "-rw-rw-r--    1 1200     1200     226048129 Oct 26 20:47 BIMERC_CoupControl1_093016.mzXML\n",
      "-rw-rw-r--    1 1200     1200     225163677 Oct 26 20:47 BIMERC_CoupControl2_093016.mzXML\n",
      "-rw-rw-r--    1 1200     1200     221858098 Oct 26 20:47 BIMERC_FL1_093016.mzXML\n",
      "-rw-rw-r--    1 1200     1200     221878616 Oct 26 20:47 BIMERC_FU1_093016.mzXML\n",
      "-rw-rw-r--    1 1200     1200     220237482 Oct 26 20:47 BIMERC_RL1_093016.mzXML\n",
      "-rw-rw-r--    1 1200     1200     220893702 Oct 26 20:47 BIMERC_RU1_093016.mzXML\n",
      "-rw-rw-r--    1 1200     1200     221394520 Oct 26 20:47 BIMERC_T1_093016.mzXML\n",
      "-rw-rw-r--    1 1200     1200     221903010 Oct 26 20:47 BIMERC_T4_093016.mzXML\n",
      "-rw-rw-r--    1 1200     1200     240702369 Oct 26 20:46 BIMERC_TileControl1_093016.mzXML\n",
      "-rw-rw-r--    1 1200     1200     227704893 Oct 26 20:46 BIMERC_TileControl2_093016.mzXML\n",
      "drwxrwxr-x    3 1200     1200            3 Jul 20  2016 Bailey\n",
      "-rw-rw-r--    1 1200     1200     42680466 Jun 07  2016 C1.mzXML\n",
      "-rw-rw-r--    1 1200     1200     41357939 Jun 07  2016 C2.mzXML\n",
      "-rw-rw-r--    1 1200     1200     42006351 Jun 07  2016 C3.mzXML\n",
      "-rw-rw-r--    1 1200     1200     227153028 Oct 26 20:46 C3BA1_Droplet_101916.mzXML\n",
      "-rw-rw-r--    1 1200     1200     228836800 Oct 26 20:46 C3BA2_Droplet_101916.mzXML\n",
      "-rw-rw-r--    1 1200     1200     228127089 Oct 26 20:46 C3BA3_Droplet_101916.mzXML\n",
      "-rw-rw-r--    1 1200     1200     32510384 Jun 14  2016 C3BA_AqueousSN_liqliqext.mzXML\n",
      "-rw-rw-r--    1 1200     1200     45571621 Jul 14  2016 C3BA_Day6_ACT_EtAc_071416_160714104744.mzXML\n",
      "-rw-rw-r--    1 1200     1200     41792394 Jun 14  2016 C3BA_OrganicSN_liqliqext.mzXML\n",
      "-rw-rw-r--    1 1200     1200     50253550 Jul 28  2016 C3BA_PlateColony_100MeOH_072816.mzXML\n",
      "-rw-rw-r--    1 1200     1200     37482232 Nov 16 21:28 C3BA_XAD2_10D_LLCHLORO_100MeOH_111016_120_ACN.mzXML\n",
      "-rw-rw-r--    1 1200     1200     43489066 Nov 16 21:28 C3BA_XAD2_10D_LLCHLORO_100MeOH_111016_PA2.mzXML\n",
      "-rw-rw-r--    1 1200     1200     41647474 Nov 16 21:28 C3BA_XAD2_10D_LLCHLORO_100MeOH_111016_PA2_ACN.mzXML\n",
      "-rw-rw-r--    1 1200     1200     41403896 Jul 14  2016 C3BA_day3_ACT_100MeOH_071416.mzXML\n",
      "-rw-rw-r--    1 1200     1200     45256836 Jul 14  2016 C3BA_day3_ACT_50MeOH_071416.mzXML\n",
      "-rw-rw-r--    1 1200     1200     45072449 Jul 14  2016 C3BA_day3_ACT_EtAc_071416.mzXML\n",
      "-rw-rw-r--    1 1200     1200     43972615 Jul 14  2016 C3BA_day6_ACT_100MeOH_071416.mzXML\n",
      "-rw-rw-r--    1 1200     1200     42217049 Jul 14  2016 C3BA_day6_ACT_50MeOH_071416.mzXML\n",
      "-rw-rw-r--    1 1200     1200     43249351 Jul 14  2016 C3BA_day6_ACT_50MeOH_071416_160714110408.mzXML\n",
      "-rw-rw-r--    1 1200     1200     44590977 Jul 14  2016 C3BA_day6_ACT_EtAc2_071416.mzXML\n",
      "-rw-rw-r--    1 1200     1200     50018266 Jul 14  2016 C3BA_day6_ACT_EtAc_071416.mzXML\n",
      "-rw-rw-r--    1 1200     1200     42422763 Jul 14  2016 C3BA_day6_MMAACA_50MeOH_071416.mzXML\n",
      "-rw-rw-r--    1 1200     1200     28896492 Jul 14  2016 C3BA_day6_MMAA_50MeOH_071416.mzXML\n",
      "-rw-rw-r--    1 1200     1200     25246742 Jul 14  2016 C3BA_day9_ACT_100MeOH_071416.mzXML\n",
      "-rw-rw-r--    1 1200     1200         1630 Jul 14  2016 C3BA_day9_ACT_50MeOH_071416.mzXML\n",
      "-rw-rw-r--    1 1200     1200     44699319 Jul 14  2016 C3BA_day9_ACT_EtAc_071416.mzXML\n",
      "-rw-rw-r--    1 1200     1200     45689296 Jun 02  2016 C3BAfavastrepextract_06_02_16.mzXML\n",
      "-rw-rw-r--    1 1200     1200     43474881 Jun 02  2016 C3Bfavastrepextract_06_02_16.mzXML\n",
      "-rw-rw-r--    1 1200     1200     42746922 Jun 08  2016 C_3BLIQEXT060716.mzXML\n",
      "-rw-rw-r--    1 1200     1200     44864296 Jun 02  2016 D4AAfavastrepextract_06_02_16.mzXML\n",
      "-rw-rw-r--    1 1200     1200     44802734 Jun 02  2016 D4ACfavastrepextract_06_02_16.mzXML\n",
      "-rw-rw-r--    1 1200     1200     32088691 Jun 14  2016 D4A_AqueousSN_liqliqext.mzXML\n",
      "-rw-rw-r--    1 1200     1200     32877721 Jun 14  2016 D4A_OrganicSN_liqliqext.mzXML\n",
      "-rw-rw-r--    1 1200     1200     40769942 Nov 16 21:28 D4A_XAD2_10D_LLCHLORO_100MeOH_111016_120_ACN.mzXML\n",
      "-rw-rw-r--    1 1200     1200     43641749 Nov 16 21:28 D4A_XAD2_10D_LLCHLORO_100MeOH_111016_PA2.mzXML\n",
      "-rw-rw-r--    1 1200     1200     44626444 Nov 16 21:28 D4A_XAD2_10D_LLCHLORO_100MeOH_111016_PA2_ACN.mzXML\n",
      "-rw-rw-r--    1 1200     1200     45229958 Jun 02  2016 D4Afavastrepextract_06_02_16.mzXML\n",
      "drwxrwxr-x    2 1200     1200           22 Jan 19 22:34 DylanMcClung\n",
      "lrwxrwxrwx    1 1200     1200           44 May 03  2016 ET+Fe2.mzXML -> /data/massive/MSV000079695/peak/ET+Fe2.mzXML\n",
      "lrwxrwxrwx    1 1200     1200           42 May 03  2016 ET+I.mzXML -> /data/massive/MSV000079695/peak/ET+I.mzXML\n",
      "lrwxrwxrwx    1 1200     1200           42 May 03  2016 ET-I.mzXML -> /data/massive/MSV000079695/peak/ET-I.mzXML\n",
      "lrwxrwxrwx    1 1200     1200           42 May 03  2016 ETC-.mzXML -> /data/massive/MSV000079695/peak/ETC-.mzXML\n",
      "-rw-rw-r--    1 1200     1200     43532711 Jul 14  2016 FN32_50MeOH_071416.mzXML\n",
      "-rw-rw-r--    1 1200     1200     40087942 Jun 14  2016 FP2A_EXTLIQ_061316.mzXML\n",
      "-rw-rw-r--    1 1200     1200     41728638 Jun 08  2016 FP3_2ALIQEXT060716.mzXML\n",
      "-rw-rw-r--    1 1200     1200     43324496 Jun 08  2016 FP4ALIQEXT060716.mzXML\n",
      "-rw-rw-r--    1 1200     1200     41695197 Jun 14  2016 FP4C_EXTLIQ_061316.mzXML\n",
      "-rw-rw-r--    1 1200     1200     42567092 Jun 07  2016 I1-1.mzXML\n",
      "-rw-rw-r--    1 1200     1200     42579084 Jun 07  2016 I1-2.mzXML\n",
      "-rw-rw-r--    1 1200     1200     42223877 Jun 07  2016 I1-3.mzXML\n",
      "-rw-rw-r--    1 1200     1200     42489451 Jun 07  2016 I1-4.mzXML\n",
      "-rw-rw-r--    1 1200     1200     42907658 Jun 07  2016 I1-5.mzXML\n",
      "-rw-rw-r--    1 1200     1200     42324544 Jun 07  2016 I1-6.mzXML\n",
      "-rw-rw-r--    1 1200     1200     42304689 Jun 07  2016 I2-1.mzXML\n",
      "-rw-rw-r--    1 1200     1200     42247951 Jun 07  2016 I2-2.mzXML\n",
      "-rw-rw-r--    1 1200     1200     41846340 Jun 07  2016 I2-3.mzXML\n",
      "-rw-rw-r--    1 1200     1200     42786424 Jun 07  2016 I2-4.mzXML\n",
      "-rw-rw-r--    1 1200     1200     42326115 Jun 07  2016 I2-5.mzXML\n",
      "-rw-rw-r--    1 1200     1200     42384217 Jun 07  2016 I2-6.mzXML\n",
      "-rw-rw-r--    1 1200     1200     42398663 Jun 07  2016 I3-1.mzXML\n",
      "-rw-rw-r--    1 1200     1200     42809854 Jun 07  2016 I3-2.mzXML\n",
      "-rw-rw-r--    1 1200     1200     42359991 Jun 07  2016 I3-3.mzXML\n",
      "-rw-rw-r--    1 1200     1200     42777333 Jun 07  2016 I3-4.mzXML\n",
      "-rw-rw-r--    1 1200     1200     42810220 Jun 07  2016 I3-5.mzXML\n",
      "-rw-rw-r--    1 1200     1200     42554982 Jun 07  2016 I3-6.mzXML\n",
      "-rw-rw-r--    1 1200     1200     41702419 Jun 21  2016 ISPIIAA_C3BA_062116.mzXML\n",
      "-rw-rw-r--    1 1200     1200     71233192 Jun 24  2016 Karthik_+(2).mzML\n",
      "-rw-rw-r--    1 1200     1200     43643273 Jun 21  2016 Karthik_+.mzXML\n",
      "-rw-rw-r--    1 1200     1200     73309684 Jun 24  2016 Karthik_-(2).mzML\n",
      "-rw-rw-r--    1 1200     1200     42925599 Jun 21  2016 Karthik_-.mzXML\n",
      "-rw-rw-r--    1 1200     1200     43582523 Jun 21  2016 MMAA_C3BA_062116.mzXML\n",
      "-rw-rw-r--    1 1200     1200     43232703 Jun 21  2016 MM_C3BA_062116.mzXML\n",
      "lrwxrwxrwx    1 1200     1200           46 May 03  2016 MeOH+Fe2.mzXML -> /data/massive/MSV000079695/peak/MeOH+Fe2.mzXML\n",
      "lrwxrwxrwx    1 1200     1200           44 May 03  2016 MeOH+I.mzXML -> /data/massive/MSV000079695/peak/MeOH+I.mzXML\n",
      "lrwxrwxrwx    1 1200     1200           44 May 03  2016 MeOH-I.mzXML -> /data/massive/MSV000079695/peak/MeOH-I.mzXML\n",
      "lrwxrwxrwx    1 1200     1200           44 May 03  2016 MeOHC-.mzXML -> /data/massive/MSV000079695/peak/MeOHC-.mzXML\n",
      "-rw-rw-r--    1 1200     1200     334479244 Jan 13 23:13 MeOH_170113075144.mzXML\n",
      "-rw-rw-r--    1 1200     1200     42134914 Jun 07  2016 S1.mzXML\n",
      "-rw-rw-r--    1 1200     1200     42213264 Jun 07  2016 S2.mzXML\n",
      "-rw-rw-r--    1 1200     1200     42317808 Jun 07  2016 S3.mzXML\n",
      "-rw-rw-r--    1 1200     1200     222245399 Oct 26 20:46 USActino_VR26_Droplet_101916.mzXML\n",
      "-rw-rw-r--    1 1200     1200     136582600 Feb 03 23:00 alex_ms.tar.gz\n",
      "lrwxrwxrwx    1 1200     1200           76 May 12  2016 direct infusion root nodule octopeptide.mzML -> /data/massive/MSV000079721/peak/direct infusion root nodule octopeptide.mzML\n",
      "-rw-rw-r--    1 1200     1200     47521792 May 24  2016 favanoduleP2051916.mzXML\n",
      "-rw-rw-r--    1 1200     1200     43116064 May 24  2016 favanoduleP3-1051916.mzXML\n",
      "-rw-rw-r--    1 1200     1200     46290306 May 24  2016 favanoduleP3-2051917.mzXML\n",
      "-rw-rw-r--    1 1200     1200     46401274 May 24  2016 favanoduleP4051918.mzXML\n",
      "-rw-rw-r--    1 1200     1200        91522 May 25  2016 wildnodP2_05_25_16.mzXML\n",
      "-rw-rw-r--    1 1200     1200        87432 May 25  2016 wildnodP2_05_25_16_160525115310.mzXML\n",
      "-rw-rw-r--    1 1200     1200        94146 May 25  2016 wildnodP31_05_25_17.mzXML\n",
      "-rw-rw-r--    1 1200     1200       112991 May 25  2016 wildnodP31_05_25_17_160525120930.mzXML\n",
      "-rw-rw-r--    1 1200     1200        86039 May 25  2016 wildnodP32_05_25_18.mzXML\n",
      "-rw-rw-r--    1 1200     1200       155258 May 25  2016 wildnodP32_05_25_18_160525122548.mzXML\n",
      "-rw-rw-r--    1 1200     1200        69638 May 25  2016 wildnodP4_05_25_19.mzXML\n",
      "-rw-rw-r--    1 1200     1200        58723 May 25  2016 wildnodP4_05_25_19_160525124206.mzXML\n"
     ]
    },
    {
     "data": {
      "text/plain": [
       "'221 Goodbye.'"
      ]
     },
     "execution_count": 27,
     "metadata": {},
     "output_type": "execute_result"
    }
   ],
   "source": [
    "filename = \"test.mzXML\"\n",
    "ftp = ftplib.FTP(\"ccms-ftp01.ucsd.edu\")\n",
    "ftp.login(\"Trax_lab\",\"Stormborn\")\n",
    "#myfile = open(\"../viz/scripts/json.mzXML\", \"rb\")\n",
    "#ftp.storbinary(\"STOR \" + filename, myfile)\n",
    "ftp.delete(filename)\n",
    "ftp.dir()\n",
    "ftp.quit()"
   ]
  },
  {
   "cell_type": "markdown",
   "metadata": {
    "collapsed": true
   },
   "source": [
    "# Comparing compound tables"
   ]
  },
  {
   "cell_type": "code",
   "execution_count": 3,
   "metadata": {
    "collapsed": false
   },
   "outputs": [],
   "source": [
    "import seaborn as sns\n",
    "import pandas as pd"
   ]
  },
  {
   "cell_type": "code",
   "execution_count": null,
   "metadata": {
    "collapsed": true
   },
   "outputs": [],
   "source": [
    "normalized = pd.read_table(\"\")\n",
    "raw = pd.read_table(\"\")"
   ]
  },
  {
   "cell_type": "code",
   "execution_count": null,
   "metadata": {
    "collapsed": true
   },
   "outputs": [],
   "source": [
    "plt.figure(figsize=(6,7))\n",
    "sns.heatmap(, annot=True, cmap='Blues', fmt='g')\n",
    "plt.title(\"Compound Table\")\n",
    "#plt.xticks(rotation=60, ha=\"right\")\n",
    "plt.show()"
   ]
  },
  {
   "cell_type": "markdown",
   "metadata": {},
   "source": [
    "## processing compound table"
   ]
  },
  {
   "cell_type": "code",
   "execution_count": 87,
   "metadata": {
    "collapsed": false
   },
   "outputs": [],
   "source": [
    "import pandas as pd\n",
    "\n",
    "def merge_vars(row):\n",
    "    new = row[\"Compound\"] + '|' + row[\"Mass\"]\n",
    "    return new\n",
    "\n",
    "table = pd.read_csv(\"../input_files/compounds_table_subset_filtered.txt\")\n",
    "#table[\"cmpd\"] = table.apply(merge_vars, axis=1)\n",
    "#table2 = table.drop([\"Compound\",\"Mass\"],1)\n",
    "#table3 = table2.set_index([\"cmpd\"], drop=True)\n",
    "#table4 = table3.transpose()\n",
    "r = list(table.Compound)\n",
    "c = list(table.columns)\n",
    "melt = pd.melt(table, id_vars=[\"Compound\", \"Mass\"], value_vars=list(table.columns[2:len(table.columns)]))\n",
    "melt[\"col\"] = melt[\"Compound\"].apply(lambda x: r.index(x) + 1)\n",
    "melt[\"row\"] = melt[\"variable\"].apply(lambda x: c.index(x) - 1)\n",
    "melt[\"var\"] = melt[\"variable\"].apply(lambda x: x.split(\"/\")[(len(x.split(\"/\"))-1)].replace(\".mzXML\",\"\"))\n",
    "melt[\"cmpd\"] = melt[\"Compound\"].apply(lambda x: x.replace(\"compound_\",\"#\"))\n",
    "melt2 = melt.drop([\"variable\", \"Compound\"], 1)"
   ]
  },
  {
   "cell_type": "code",
   "execution_count": 2,
   "metadata": {
    "collapsed": false
   },
   "outputs": [],
   "source": [
    "melt2.to_csv(\"data/cmpd_table_melted.tsv\", sep=\"\\t\", index=False)"
   ]
  },
  {
   "cell_type": "code",
   "execution_count": 88,
   "metadata": {
    "collapsed": false
   },
   "outputs": [
    {
     "data": {
      "text/html": [
       "<div>\n",
       "<table border=\"1\" class=\"dataframe\">\n",
       "  <thead>\n",
       "    <tr style=\"text-align: right;\">\n",
       "      <th></th>\n",
       "      <th>Mass</th>\n",
       "      <th>value</th>\n",
       "      <th>col</th>\n",
       "      <th>row</th>\n",
       "      <th>var</th>\n",
       "      <th>cmpd</th>\n",
       "    </tr>\n",
       "  </thead>\n",
       "  <tbody>\n",
       "    <tr>\n",
       "      <th>0</th>\n",
       "      <td>400.096102583+-0.4885</td>\n",
       "      <td>5577725.5</td>\n",
       "      <td>1</td>\n",
       "      <td>1</td>\n",
       "      <td>LG60FAVA_2_1_071816</td>\n",
       "      <td>#7104</td>\n",
       "    </tr>\n",
       "    <tr>\n",
       "      <th>1</th>\n",
       "      <td>400.818834931+-0.4297</td>\n",
       "      <td>4224517.5</td>\n",
       "      <td>2</td>\n",
       "      <td>1</td>\n",
       "      <td>LG60FAVA_2_1_071816</td>\n",
       "      <td>#7115</td>\n",
       "    </tr>\n",
       "    <tr>\n",
       "      <th>2</th>\n",
       "      <td>400.414683024+-0.0001</td>\n",
       "      <td>1637614.5</td>\n",
       "      <td>3</td>\n",
       "      <td>1</td>\n",
       "      <td>LG60FAVA_2_1_071816</td>\n",
       "      <td>#7123</td>\n",
       "    </tr>\n",
       "    <tr>\n",
       "      <th>3</th>\n",
       "      <td>400.905181885+-0.1144</td>\n",
       "      <td>0.0</td>\n",
       "      <td>4</td>\n",
       "      <td>1</td>\n",
       "      <td>LG60FAVA_2_1_071816</td>\n",
       "      <td>#7128</td>\n",
       "    </tr>\n",
       "    <tr>\n",
       "      <th>4</th>\n",
       "      <td>400.806091309+-0.0</td>\n",
       "      <td>0.0</td>\n",
       "      <td>5</td>\n",
       "      <td>1</td>\n",
       "      <td>LG60FAVA_2_1_071816</td>\n",
       "      <td>#7129</td>\n",
       "    </tr>\n",
       "  </tbody>\n",
       "</table>\n",
       "</div>"
      ],
      "text/plain": [
       "                    Mass      value  col  row                  var   cmpd\n",
       "0  400.096102583+-0.4885  5577725.5    1    1  LG60FAVA_2_1_071816  #7104\n",
       "1  400.818834931+-0.4297  4224517.5    2    1  LG60FAVA_2_1_071816  #7115\n",
       "2  400.414683024+-0.0001  1637614.5    3    1  LG60FAVA_2_1_071816  #7123\n",
       "3  400.905181885+-0.1144        0.0    4    1  LG60FAVA_2_1_071816  #7128\n",
       "4     400.806091309+-0.0        0.0    5    1  LG60FAVA_2_1_071816  #7129"
      ]
     },
     "execution_count": 88,
     "metadata": {},
     "output_type": "execute_result"
    }
   ],
   "source": [
    "melt2.head()"
   ]
  },
  {
   "cell_type": "code",
   "execution_count": 89,
   "metadata": {
    "collapsed": false
   },
   "outputs": [
    {
     "data": {
      "text/html": [
       "<div>\n",
       "<table border=\"1\" class=\"dataframe\">\n",
       "  <thead>\n",
       "    <tr style=\"text-align: right;\">\n",
       "      <th></th>\n",
       "      <th>Compound</th>\n",
       "      <th>Mass</th>\n",
       "      <th>../scott_ms_run/LG60FAVA_2_1_071816.mzXML</th>\n",
       "      <th>../scott_ms_run/LG60FAVA_2_2_071816.mzXML</th>\n",
       "      <th>../scott_ms_run/LG60FAVA_4_1_071816.mzXML</th>\n",
       "      <th>../scott_ms_run/LG60FAVA_4_2_071816.mzXML</th>\n",
       "      <th>../scott_ms_run/LGFB1_95D_101916.mzXML</th>\n",
       "      <th>../scott_ms_run/LGFB2_95D_101916.mzXML</th>\n",
       "      <th>../scott_ms_run/LGFB3_95D_101916.mzXML</th>\n",
       "      <th>../scott_ms_run/LGFB4_95D_101916.mzXML</th>\n",
       "      <th>../scott_ms_run/LGFN_L_100MeOH_080916.mzXML</th>\n",
       "      <th>../scott_ms_run/LGFN_S_100MeOH_080916.mzXML</th>\n",
       "      <th>../scott_ms_run/LabFNroot.mzXML</th>\n",
       "    </tr>\n",
       "  </thead>\n",
       "  <tbody>\n",
       "    <tr>\n",
       "      <th>0</th>\n",
       "      <td>compound_7104</td>\n",
       "      <td>400.096102583+-0.4885</td>\n",
       "      <td>5577725.5</td>\n",
       "      <td>5831911.5</td>\n",
       "      <td>10325032.00</td>\n",
       "      <td>6655734.50</td>\n",
       "      <td>0.000</td>\n",
       "      <td>0.000</td>\n",
       "      <td>0.000</td>\n",
       "      <td>0.000</td>\n",
       "      <td>0.0</td>\n",
       "      <td>0.0</td>\n",
       "      <td>0.0</td>\n",
       "    </tr>\n",
       "    <tr>\n",
       "      <th>1</th>\n",
       "      <td>compound_7115</td>\n",
       "      <td>400.818834931+-0.4297</td>\n",
       "      <td>4224517.5</td>\n",
       "      <td>0.0</td>\n",
       "      <td>3736003.75</td>\n",
       "      <td>3407297.00</td>\n",
       "      <td>0.000</td>\n",
       "      <td>0.000</td>\n",
       "      <td>0.000</td>\n",
       "      <td>0.000</td>\n",
       "      <td>0.0</td>\n",
       "      <td>0.0</td>\n",
       "      <td>0.0</td>\n",
       "    </tr>\n",
       "    <tr>\n",
       "      <th>2</th>\n",
       "      <td>compound_7123</td>\n",
       "      <td>400.414683024+-0.0001</td>\n",
       "      <td>1637614.5</td>\n",
       "      <td>1668883.0</td>\n",
       "      <td>0.00</td>\n",
       "      <td>2305316.25</td>\n",
       "      <td>0.000</td>\n",
       "      <td>0.000</td>\n",
       "      <td>0.000</td>\n",
       "      <td>0.000</td>\n",
       "      <td>0.0</td>\n",
       "      <td>0.0</td>\n",
       "      <td>0.0</td>\n",
       "    </tr>\n",
       "    <tr>\n",
       "      <th>3</th>\n",
       "      <td>compound_7128</td>\n",
       "      <td>400.905181885+-0.1144</td>\n",
       "      <td>0.0</td>\n",
       "      <td>0.0</td>\n",
       "      <td>0.00</td>\n",
       "      <td>0.00</td>\n",
       "      <td>1594843.625</td>\n",
       "      <td>1627831.125</td>\n",
       "      <td>1520320.875</td>\n",
       "      <td>1360046.125</td>\n",
       "      <td>0.0</td>\n",
       "      <td>0.0</td>\n",
       "      <td>0.0</td>\n",
       "    </tr>\n",
       "    <tr>\n",
       "      <th>4</th>\n",
       "      <td>compound_7129</td>\n",
       "      <td>400.806091309+-0.0</td>\n",
       "      <td>0.0</td>\n",
       "      <td>0.0</td>\n",
       "      <td>0.00</td>\n",
       "      <td>0.00</td>\n",
       "      <td>0.000</td>\n",
       "      <td>0.000</td>\n",
       "      <td>1507944.875</td>\n",
       "      <td>1334536.625</td>\n",
       "      <td>0.0</td>\n",
       "      <td>0.0</td>\n",
       "      <td>0.0</td>\n",
       "    </tr>\n",
       "  </tbody>\n",
       "</table>\n",
       "</div>"
      ],
      "text/plain": [
       "        Compound                   Mass  \\\n",
       "0  compound_7104  400.096102583+-0.4885   \n",
       "1  compound_7115  400.818834931+-0.4297   \n",
       "2  compound_7123  400.414683024+-0.0001   \n",
       "3  compound_7128  400.905181885+-0.1144   \n",
       "4  compound_7129     400.806091309+-0.0   \n",
       "\n",
       "   ../scott_ms_run/LG60FAVA_2_1_071816.mzXML  \\\n",
       "0                                  5577725.5   \n",
       "1                                  4224517.5   \n",
       "2                                  1637614.5   \n",
       "3                                        0.0   \n",
       "4                                        0.0   \n",
       "\n",
       "   ../scott_ms_run/LG60FAVA_2_2_071816.mzXML  \\\n",
       "0                                  5831911.5   \n",
       "1                                        0.0   \n",
       "2                                  1668883.0   \n",
       "3                                        0.0   \n",
       "4                                        0.0   \n",
       "\n",
       "   ../scott_ms_run/LG60FAVA_4_1_071816.mzXML  \\\n",
       "0                                10325032.00   \n",
       "1                                 3736003.75   \n",
       "2                                       0.00   \n",
       "3                                       0.00   \n",
       "4                                       0.00   \n",
       "\n",
       "   ../scott_ms_run/LG60FAVA_4_2_071816.mzXML  \\\n",
       "0                                 6655734.50   \n",
       "1                                 3407297.00   \n",
       "2                                 2305316.25   \n",
       "3                                       0.00   \n",
       "4                                       0.00   \n",
       "\n",
       "   ../scott_ms_run/LGFB1_95D_101916.mzXML  \\\n",
       "0                                   0.000   \n",
       "1                                   0.000   \n",
       "2                                   0.000   \n",
       "3                             1594843.625   \n",
       "4                                   0.000   \n",
       "\n",
       "   ../scott_ms_run/LGFB2_95D_101916.mzXML  \\\n",
       "0                                   0.000   \n",
       "1                                   0.000   \n",
       "2                                   0.000   \n",
       "3                             1627831.125   \n",
       "4                                   0.000   \n",
       "\n",
       "   ../scott_ms_run/LGFB3_95D_101916.mzXML  \\\n",
       "0                                   0.000   \n",
       "1                                   0.000   \n",
       "2                                   0.000   \n",
       "3                             1520320.875   \n",
       "4                             1507944.875   \n",
       "\n",
       "   ../scott_ms_run/LGFB4_95D_101916.mzXML  \\\n",
       "0                                   0.000   \n",
       "1                                   0.000   \n",
       "2                                   0.000   \n",
       "3                             1360046.125   \n",
       "4                             1334536.625   \n",
       "\n",
       "   ../scott_ms_run/LGFN_L_100MeOH_080916.mzXML  \\\n",
       "0                                          0.0   \n",
       "1                                          0.0   \n",
       "2                                          0.0   \n",
       "3                                          0.0   \n",
       "4                                          0.0   \n",
       "\n",
       "   ../scott_ms_run/LGFN_S_100MeOH_080916.mzXML  \\\n",
       "0                                          0.0   \n",
       "1                                          0.0   \n",
       "2                                          0.0   \n",
       "3                                          0.0   \n",
       "4                                          0.0   \n",
       "\n",
       "   ../scott_ms_run/LabFNroot.mzXML  \n",
       "0                              0.0  \n",
       "1                              0.0  \n",
       "2                              0.0  \n",
       "3                              0.0  \n",
       "4                              0.0  "
      ]
     },
     "execution_count": 89,
     "metadata": {},
     "output_type": "execute_result"
    }
   ],
   "source": [
    "table.head()"
   ]
  },
  {
   "cell_type": "code",
   "execution_count": 19,
   "metadata": {
    "collapsed": true
   },
   "outputs": [],
   "source": [
    "import scipy.cluster.hierarchy as hac\n",
    "import numpy as np"
   ]
  },
  {
   "cell_type": "code",
   "execution_count": 118,
   "metadata": {
    "collapsed": false
   },
   "outputs": [],
   "source": [
    "melt2[\"hrow\"] = melt[\"row\"].apply(lambda x: hrows[x])\n",
    "melt2[\"hcol\"] = melt[\"col\"].apply(lambda x: hcols[x])"
   ]
  },
  {
   "cell_type": "code",
   "execution_count": 122,
   "metadata": {
    "collapsed": false
   },
   "outputs": [
    {
     "name": "stdout",
     "output_type": "stream",
     "text": [
      "{1: 1423, 2: 1081, 3: 1267, 4: 1271, 5: 847, 6: 1043, 7: 1386, 8: 224, 9: 1377, 10: 1118, 11: 1214, 12: 57, 13: 111, 14: 1000, 15: 641, 16: 634, 17: 812, 18: 367, 19: 846, 20: 1036, 21: 633, 22: 1024, 23: 865, 24: 1033, 25: 1115, 26: 879, 27: 942, 28: 598, 29: 864, 30: 770, 31: 728, 32: 759, 33: 63, 34: 573, 35: 875, 36: 932, 37: 1, 38: 857, 39: 429, 40: 415, 41: 1313, 42: 341, 43: 894, 44: 506, 45: 1020, 46: 274, 47: 78, 48: 722, 49: 1079, 50: 369, 51: 1068, 52: 326, 53: 1319, 54: 1303, 55: 775, 56: 338, 57: 496, 58: 1289, 59: 964, 60: 564, 61: 644, 62: 130, 63: 908, 64: 1277, 65: 1168, 66: 1220, 67: 842, 68: 1437, 69: 194, 70: 26, 71: 179, 72: 913, 73: 1329, 74: 23, 75: 394, 76: 492, 77: 16, 78: 1272, 79: 398, 80: 604, 81: 290, 82: 1309, 83: 1258, 84: 872, 85: 151, 86: 873, 87: 1317, 88: 1045, 89: 1083, 90: 1196, 91: 1398, 92: 198, 93: 1308, 94: 1098, 95: 1256, 96: 73, 97: 967, 98: 1235, 99: 414, 100: 1092, 101: 17, 102: 546, 103: 789, 104: 382, 105: 1207, 106: 257, 107: 594, 108: 27, 109: 378, 110: 520, 111: 1316, 112: 390, 113: 1004, 114: 255, 115: 1030, 116: 281, 117: 70, 118: 1226, 119: 1248, 120: 794, 121: 1129, 122: 950, 123: 951, 124: 339, 125: 1305, 126: 376, 127: 92, 128: 1290, 129: 940, 130: 249, 131: 1307, 132: 607, 133: 1139, 134: 1336, 135: 668, 136: 77, 137: 93, 138: 384, 139: 714, 140: 733, 141: 1216, 142: 1414, 143: 432, 144: 1035, 145: 676, 146: 695, 147: 643, 148: 620, 149: 785, 150: 1102, 151: 1239, 152: 1146, 153: 1169, 154: 236, 155: 981, 156: 195, 157: 734, 158: 1283, 159: 1374, 160: 1343, 161: 1382, 162: 743, 163: 1145, 164: 1050, 165: 830, 166: 834, 167: 347, 168: 662, 169: 1448, 170: 1456, 171: 955, 172: 1037, 173: 1204, 174: 1350, 175: 587, 176: 588, 177: 1406, 178: 975, 179: 1163, 180: 1363, 181: 1466, 182: 380, 183: 1057, 184: 1441, 185: 1276, 186: 1410, 187: 1342, 188: 1460, 189: 1182, 190: 1349, 191: 1365, 192: 1158, 193: 1378, 194: 749, 195: 1199, 196: 553, 197: 874, 198: 1097, 199: 1241, 200: 1148, 201: 1233, 202: 898, 203: 1121, 204: 1173, 205: 110, 206: 391, 207: 1251, 208: 976, 209: 1355, 210: 115, 211: 605, 212: 721, 213: 651, 214: 1042, 215: 1324, 216: 180, 217: 355, 218: 556, 219: 690, 220: 178, 221: 1230, 222: 925, 223: 952, 224: 164, 225: 1359, 226: 1049, 227: 739, 228: 166, 229: 344, 230: 235, 231: 45, 232: 358, 233: 303, 234: 412, 235: 142, 236: 852, 237: 280, 238: 157, 239: 1300, 240: 1295, 241: 232, 242: 465, 243: 1108, 244: 315, 245: 1368, 246: 1322, 247: 683, 248: 729, 249: 133, 250: 296, 251: 453, 252: 1159, 253: 1396, 254: 230, 255: 1147, 256: 567, 257: 1040, 258: 1356, 259: 30, 260: 787, 261: 1179, 262: 1461, 263: 229, 264: 578, 265: 216, 266: 854, 267: 606, 268: 822, 269: 1187, 270: 835, 271: 956, 272: 243, 273: 1119, 274: 1306, 275: 1264, 276: 1269, 277: 51, 278: 1294, 279: 481, 280: 1450, 281: 709, 282: 1321, 283: 277, 284: 383, 285: 1422, 286: 381, 287: 1402, 288: 454, 289: 979, 290: 1416, 291: 945, 292: 1067, 293: 267, 294: 689, 295: 1029, 296: 1392, 297: 10, 298: 442, 299: 660, 300: 1175, 301: 1201, 302: 1255, 303: 1265, 304: 1225, 305: 1238, 306: 1284, 307: 626, 308: 1473, 309: 275, 310: 1337, 311: 1472, 312: 962, 313: 1371, 314: 419, 315: 1260, 316: 484, 317: 1433, 318: 625, 319: 1434, 320: 206, 321: 971, 322: 349, 323: 740, 324: 1063, 325: 402, 326: 859, 327: 1180, 328: 122, 329: 1412, 330: 899, 331: 1127, 332: 1347, 333: 888, 334: 638, 335: 804, 336: 417, 337: 348, 338: 650, 339: 127, 340: 152, 341: 314, 342: 113, 343: 851, 344: 727, 345: 684, 346: 1432, 347: 878, 348: 134, 349: 1471, 350: 853, 351: 1469, 352: 162, 353: 1455, 354: 1421, 355: 1465, 356: 261, 357: 569, 358: 867, 359: 1375, 360: 886, 361: 1439, 362: 455, 363: 841, 364: 413, 365: 617, 366: 1470, 367: 410, 368: 486, 369: 392, 370: 1245, 371: 1419, 372: 1409, 373: 1449, 374: 788, 375: 1430, 376: 1426, 377: 316, 378: 1031, 379: 416, 380: 1464, 381: 95, 382: 451, 383: 615, 384: 929, 385: 295, 386: 301, 387: 505, 388: 1136, 389: 47, 390: 1391, 391: 1326, 392: 1397, 393: 927, 394: 1403, 395: 305, 396: 596, 397: 994, 398: 1413, 399: 433, 400: 1383, 401: 288, 402: 1167, 403: 1445, 404: 1451, 405: 1425, 406: 411, 407: 1438, 408: 76, 409: 737, 410: 758, 411: 768, 412: 1442, 413: 1164, 414: 1369, 415: 342, 416: 418, 417: 1149, 418: 1197, 419: 618, 420: 1429, 421: 1427, 422: 458, 423: 531, 424: 1151, 425: 1152, 426: 321, 427: 580, 428: 901, 429: 40, 430: 356, 431: 1032, 432: 675, 433: 1114, 434: 357, 435: 1125, 436: 1243, 437: 50, 438: 1467, 439: 1153, 440: 1157, 441: 750, 442: 1385, 443: 608, 444: 1075, 445: 327, 446: 1379, 447: 972, 448: 1041, 449: 1076, 450: 1077, 451: 1184, 452: 752, 453: 797, 454: 891, 455: 784, 456: 871, 457: 944, 458: 1046, 459: 1138, 460: 1463, 461: 1069, 462: 289, 463: 1096, 464: 1132, 465: 1191, 466: 333, 467: 1001, 468: 1318, 469: 190, 470: 1074, 471: 757, 472: 1193, 473: 698, 474: 1165, 475: 745, 476: 287, 477: 407, 478: 837, 479: 477, 480: 300, 481: 766, 482: 631, 483: 717, 484: 943, 485: 263, 486: 619, 487: 1143, 488: 1200, 489: 196, 490: 845, 491: 1003, 492: 464, 493: 456, 494: 1019, 495: 74, 496: 436, 497: 317, 498: 350, 499: 462, 500: 35, 501: 1162, 502: 388, 503: 807, 504: 53, 505: 56, 506: 272, 507: 1234, 508: 706, 509: 953, 510: 702, 511: 518, 512: 912, 513: 223, 514: 915, 515: 372, 516: 513, 517: 1054, 518: 646, 519: 779, 520: 937, 521: 982, 522: 591, 523: 624, 524: 701, 525: 1028, 526: 153, 527: 833, 528: 764, 529: 818, 530: 688, 531: 12, 532: 771, 533: 202, 534: 630, 535: 592, 536: 1015, 537: 396, 538: 507, 539: 988, 540: 154, 541: 767, 542: 311, 543: 534, 544: 681, 545: 188, 546: 715, 547: 422, 548: 459, 549: 102, 550: 172, 551: 81, 552: 1059, 553: 250, 554: 527, 555: 253, 556: 1099, 557: 559, 558: 798, 559: 273, 560: 242, 561: 200, 562: 291, 563: 120, 564: 445, 565: 364, 566: 438, 567: 560, 568: 104, 569: 535, 570: 801, 571: 292, 572: 244, 573: 421, 574: 325, 575: 491, 576: 1060, 577: 490, 578: 489, 579: 1013, 580: 199, 581: 328, 582: 245, 583: 260, 584: 658, 585: 189, 586: 293, 587: 1012, 588: 533, 589: 639, 590: 1014, 591: 420, 592: 221, 593: 252, 594: 747, 595: 499, 596: 165, 597: 808, 598: 6, 599: 32, 600: 939, 601: 472, 602: 649, 603: 131, 604: 674, 605: 1387, 606: 528, 607: 426, 608: 203, 609: 541, 610: 883, 611: 924, 612: 926, 613: 849, 614: 85, 615: 970, 616: 1443, 617: 46, 618: 1453, 619: 68, 620: 217, 621: 331, 622: 885, 623: 1128, 624: 177, 625: 500, 626: 201, 627: 452, 628: 900, 629: 1462, 630: 437, 631: 557, 632: 254, 633: 811, 634: 612, 635: 1016, 636: 44, 637: 1446, 638: 524, 639: 1156, 640: 443, 641: 663, 642: 949, 643: 1212, 644: 1293, 645: 882, 646: 1452, 647: 34, 648: 474, 649: 941, 650: 906, 651: 1418, 652: 1440, 653: 161, 654: 1431, 655: 1263, 656: 1468, 657: 480, 658: 1219, 659: 963, 660: 373, 661: 880, 662: 310, 663: 323, 664: 761, 665: 1388, 666: 408, 667: 1056, 668: 158, 669: 570, 670: 207, 671: 87, 672: 485, 673: 185, 674: 278, 675: 448, 676: 821, 677: 182, 678: 602, 679: 877, 680: 329, 681: 1282, 682: 751, 683: 986, 684: 43, 685: 320, 686: 468, 687: 181, 688: 403, 689: 1357, 690: 664, 691: 799, 692: 599, 693: 827, 694: 931, 695: 1022, 696: 297, 697: 545, 698: 424, 699: 691, 700: 1340, 701: 132, 702: 352, 703: 193, 704: 637, 705: 595, 706: 1160, 707: 463, 708: 1352, 709: 478, 710: 769, 711: 139, 712: 160, 713: 579, 714: 440, 715: 563, 716: 809, 717: 1104, 718: 815, 719: 1384, 720: 84, 721: 404, 722: 543, 723: 121, 724: 25, 725: 362, 726: 259, 727: 159, 728: 309, 729: 304, 730: 622, 731: 220, 732: 670, 733: 167, 734: 446, 735: 647, 736: 1411, 737: 21, 738: 741, 739: 276, 740: 461, 741: 571, 742: 603, 743: 1106, 744: 69, 745: 42, 746: 993, 747: 623, 748: 1415, 749: 123, 750: 363, 751: 1150, 752: 368, 753: 9, 754: 1073, 755: 168, 756: 15, 757: 493, 758: 1195, 759: 1018, 760: 62, 761: 18, 762: 64, 763: 96, 764: 108, 765: 103, 766: 99, 767: 90, 768: 94, 769: 844, 770: 234, 771: 935, 772: 318, 773: 24, 774: 584, 775: 487, 776: 831, 777: 208, 778: 909, 779: 212, 780: 516, 781: 917, 782: 703, 783: 700, 784: 742, 785: 1297, 786: 129, 787: 239, 788: 652, 789: 777, 790: 1228, 791: 1181, 792: 1172, 793: 792, 794: 1232, 795: 1198, 796: 1332, 797: 118, 798: 337, 799: 983, 800: 704, 801: 1210, 802: 210, 803: 211, 804: 514, 805: 5, 806: 586, 807: 377, 808: 589, 809: 1229, 810: 946, 811: 1101, 812: 984, 813: 1323, 814: 256, 815: 583, 816: 1071, 817: 400, 818: 666, 819: 753, 820: 1224, 821: 1320, 822: 100, 823: 89, 824: 124, 825: 1048, 826: 1103, 827: 98, 828: 125, 829: 126, 830: 86, 831: 548, 832: 204, 833: 1299, 834: 227, 835: 1335, 836: 1344, 837: 497, 838: 1111, 839: 692, 840: 896, 841: 965, 842: 968, 843: 1296, 844: 1444, 845: 470, 846: 645, 847: 547, 848: 636, 849: 1389, 850: 1217, 851: 1330, 852: 340, 853: 345, 854: 776, 855: 1275, 856: 732, 857: 1061, 858: 371, 859: 782, 860: 836, 861: 843, 862: 1257, 863: 1401, 864: 823, 865: 1227, 866: 1203, 867: 756, 868: 1208, 869: 1231, 870: 286, 871: 1458, 872: 1292, 873: 1428, 874: 1339, 875: 1407, 876: 1009, 877: 283, 878: 150, 879: 1435, 880: 370, 881: 379, 882: 469, 883: 628, 884: 112, 885: 1026, 886: 1457, 887: 1253, 888: 712, 889: 922, 890: 780, 891: 1281, 892: 246, 893: 1183, 894: 1021, 895: 673, 896: 1124, 897: 565, 898: 406, 899: 1192, 900: 1360, 901: 97, 902: 719, 903: 969, 904: 985, 905: 1010, 906: 735, 907: 1246, 908: 511, 909: 613, 910: 214, 911: 667, 912: 473, 913: 577, 914: 386, 915: 270, 916: 361, 917: 601, 918: 241, 919: 427, 920: 1325, 921: 488, 922: 957, 923: 447, 924: 504, 925: 1094, 926: 680, 927: 840, 928: 536, 929: 819, 930: 1011, 931: 1236, 932: 653, 933: 1072, 934: 795, 935: 916, 936: 1126, 937: 1135, 938: 431, 939: 1459, 940: 754, 941: 920, 942: 693, 943: 169, 944: 1221, 945: 665, 946: 1170, 947: 731, 948: 1286, 949: 1334, 950: 107, 951: 1130, 952: 1240, 953: 1141, 954: 1142, 955: 1177, 956: 1223, 957: 482, 958: 1346, 959: 1008, 960: 1140, 961: 435, 962: 460, 963: 213, 964: 439, 965: 405, 966: 654, 967: 237, 968: 904, 969: 240, 970: 387, 971: 805, 972: 1278, 973: 269, 974: 907, 975: 495, 976: 1447, 977: 544, 978: 308, 979: 802, 980: 1186, 981: 1381, 982: 581, 983: 238, 984: 1110, 985: 540, 986: 1287, 987: 1420, 988: 657, 989: 705, 990: 616, 991: 1338, 992: 914, 993: 1454, 994: 669, 995: 707, 996: 1113, 997: 517, 998: 614, 999: 510, 1000: 793, 1001: 423, 1002: 686, 1003: 938, 1004: 13, 1005: 999, 1006: 450, 1007: 755, 1008: 4, 1009: 302, 1010: 512, 1011: 708, 1012: 20, 1013: 530, 1014: 248, 1015: 1034, 1016: 228, 1017: 466, 1018: 192, 1019: 772, 1020: 354, 1021: 568, 1022: 582, 1023: 609, 1024: 359, 1025: 346, 1026: 590, 1027: 659, 1028: 79, 1029: 106, 1030: 1266, 1031: 1288, 1032: 773, 1033: 312, 1034: 523, 1035: 521, 1036: 1395, 1037: 284, 1038: 1109, 1039: 1047, 1040: 930, 1041: 1400, 1042: 699, 1043: 476, 1044: 781, 1045: 319, 1046: 397, 1047: 858, 1048: 519, 1049: 585, 1050: 1007, 1051: 1144, 1052: 989, 1053: 893, 1054: 1039, 1055: 501, 1056: 80, 1057: 1404, 1058: 101, 1059: 1291, 1060: 522, 1061: 1345, 1062: 116, 1063: 1084, 1064: 1270, 1065: 1328, 1066: 1315, 1067: 1327, 1068: 611, 1069: 401, 1070: 209, 1071: 774, 1072: 1285, 1073: 1242, 1074: 1244, 1075: 483, 1076: 1161, 1077: 135, 1078: 783, 1079: 671, 1080: 720, 1081: 1091, 1082: 1408, 1083: 233, 1084: 105, 1085: 109, 1086: 1298, 1087: 806, 1088: 895, 1089: 399, 1090: 1390, 1091: 640, 1092: 1093, 1093: 226, 1094: 343, 1095: 385, 1096: 542, 1097: 515, 1098: 572, 1099: 610, 1100: 744, 1101: 621, 1102: 282, 1103: 778, 1104: 1112, 1105: 1333, 1106: 832, 1107: 271, 1108: 1405, 1109: 251, 1110: 820, 1111: 1027, 1112: 525, 1113: 1055, 1114: 711, 1115: 374, 1116: 973, 1117: 825, 1118: 1078, 1119: 685, 1120: 791, 1121: 839, 1122: 974, 1123: 294, 1124: 1058, 1125: 1062, 1126: 855, 1127: 884, 1128: 987, 1129: 1362, 1130: 67, 1131: 141, 1132: 561, 1133: 48, 1134: 998, 1135: 1053, 1136: 138, 1137: 549, 1138: 866, 1139: 1273, 1140: 334, 1141: 869, 1142: 918, 1143: 441, 1144: 1353, 1145: 19, 1146: 748, 1147: 2, 1148: 576, 1149: 117, 1150: 1366, 1151: 936, 1152: 197, 1153: 552, 1154: 171, 1155: 1354, 1156: 648, 1157: 1100, 1158: 1262, 1159: 54, 1160: 299, 1161: 627, 1162: 128, 1163: 434, 1164: 449, 1165: 716, 1166: 881, 1167: 114, 1168: 174, 1169: 1086, 1170: 1116, 1171: 1341, 1172: 763, 1173: 1122, 1174: 1351, 1175: 694, 1176: 479, 1177: 710, 1178: 1190, 1179: 313, 1180: 351, 1181: 574, 1182: 678, 1183: 498, 1184: 532, 1185: 558, 1186: 642, 1187: 800, 1188: 191, 1189: 677, 1190: 1222, 1191: 307, 1192: 887, 1193: 947, 1194: 765, 1195: 876, 1196: 1205, 1197: 28, 1198: 555, 1199: 562, 1200: 813, 1201: 1105, 1202: 958, 1203: 1117, 1204: 1364, 1205: 856, 1206: 1280, 1207: 71, 1208: 395, 1209: 1166, 1210: 550, 1211: 1215, 1212: 184, 1213: 726, 1214: 1087, 1215: 1372, 1216: 995, 1217: 1023, 1218: 322, 1219: 980, 1220: 1310, 1221: 61, 1222: 31, 1223: 140, 1224: 147, 1225: 829, 1226: 41, 1227: 1348, 1228: 8, 1229: 258, 1230: 266, 1231: 509, 1232: 38, 1233: 360, 1234: 786, 1235: 1080, 1236: 978, 1237: 49, 1238: 1107, 1239: 600, 1240: 37, 1241: 977, 1242: 173, 1243: 824, 1244: 52, 1245: 91, 1246: 425, 1247: 661, 1248: 1331, 1249: 554, 1250: 1178, 1251: 144, 1252: 697, 1253: 1188, 1254: 175, 1255: 1064, 1256: 265, 1257: 696, 1258: 868, 1259: 502, 1260: 687, 1261: 36, 1262: 826, 1263: 218, 1264: 860, 1265: 494, 1266: 816, 1267: 33, 1268: 222, 1269: 231, 1270: 247, 1271: 268, 1272: 324, 1273: 475, 1274: 850, 1275: 82, 1276: 88, 1277: 471, 1278: 1250, 1279: 145, 1280: 264, 1281: 155, 1282: 1025, 1283: 508, 1284: 428, 1285: 796, 1286: 146, 1287: 790, 1288: 1194, 1289: 163, 1290: 928, 1291: 29, 1292: 389, 1293: 817, 1294: 336, 1295: 529, 1296: 148, 1297: 848, 1298: 1361, 1299: 186, 1300: 1376, 1301: 1370, 1302: 1380, 1303: 353, 1304: 1017, 1305: 566, 1306: 1254, 1307: 1213, 1308: 3, 1309: 921, 1310: 870, 1311: 39, 1312: 430, 1313: 143, 1314: 156, 1315: 810, 1316: 1358, 1317: 11, 1318: 60, 1319: 72, 1320: 332, 1321: 828, 1322: 1038, 1323: 59, 1324: 575, 1325: 635, 1326: 1065, 1327: 1367, 1328: 724, 1329: 83, 1330: 7, 1331: 723, 1332: 22, 1333: 183, 1334: 655, 1335: 1002, 1336: 897, 1337: 14, 1338: 632, 1339: 1373, 1340: 75, 1341: 149, 1342: 934, 1343: 215, 1344: 187, 1345: 219, 1346: 1268, 1347: 55, 1348: 933, 1349: 1312, 1350: 1314, 1351: 170, 1352: 1274, 1353: 1085, 1354: 539, 1355: 1088, 1356: 672, 1357: 718, 1358: 991, 1359: 306, 1360: 861, 1361: 1095, 1362: 1311, 1363: 285, 1364: 736, 1365: 58, 1366: 1261, 1367: 911, 1368: 760, 1369: 738, 1370: 1424, 1371: 713, 1372: 1005, 1373: 537, 1374: 593, 1375: 997, 1376: 1044, 1377: 1189, 1378: 910, 1379: 393, 1380: 1209, 1381: 656, 1382: 862, 1383: 467, 1384: 136, 1385: 1304, 1386: 1090, 1387: 1237, 1388: 1066, 1389: 1302, 1390: 996, 1391: 954, 1392: 961, 1393: 597, 1394: 1070, 1395: 1155, 1396: 966, 1397: 65, 1398: 746, 1399: 903, 1400: 409, 1401: 905, 1402: 1131, 1403: 503, 1404: 119, 1405: 1202, 1406: 1137, 1407: 330, 1408: 682, 1409: 444, 1410: 526, 1411: 1393, 1412: 225, 1413: 948, 1414: 538, 1415: 1206, 1416: 1006, 1417: 1174, 1418: 923, 1419: 1171, 1420: 137, 1421: 902, 1422: 990, 1423: 1082, 1424: 1133, 1425: 1154, 1426: 1259, 1427: 205, 1428: 1417, 1429: 298, 1430: 1247, 1431: 1394, 1432: 365, 1433: 279, 1434: 375, 1435: 863, 1436: 992, 1437: 762, 1438: 629, 1439: 892, 1440: 960, 1441: 262, 1442: 803, 1443: 889, 1444: 890, 1445: 366, 1446: 725, 1447: 814, 1448: 919, 1449: 1399, 1450: 959, 1451: 1123, 1452: 1211, 1453: 335, 1454: 1252, 1455: 176, 1456: 1185, 1457: 1218, 1458: 1279, 1459: 551, 1460: 1249, 1461: 1301, 1462: 679, 1463: 1051, 1464: 1052, 1465: 1134, 1466: 730, 1467: 457, 1468: 1120, 1469: 1089, 1470: 838, 1471: 1176, 1472: 66, 1473: 1436}\n"
     ]
    }
   ],
   "source": [
    "print hcols"
   ]
  },
  {
   "cell_type": "code",
   "execution_count": 120,
   "metadata": {
    "collapsed": false
   },
   "outputs": [
    {
     "data": {
      "text/html": [
       "<div>\n",
       "<table border=\"1\" class=\"dataframe\">\n",
       "  <thead>\n",
       "    <tr style=\"text-align: right;\">\n",
       "      <th></th>\n",
       "      <th>Mass</th>\n",
       "      <th>value</th>\n",
       "      <th>col</th>\n",
       "      <th>row</th>\n",
       "      <th>var</th>\n",
       "      <th>cmpd</th>\n",
       "      <th>hrow</th>\n",
       "      <th>hcol</th>\n",
       "    </tr>\n",
       "  </thead>\n",
       "  <tbody>\n",
       "    <tr>\n",
       "      <th>16198</th>\n",
       "      <td>1264.60830536+-0.0004</td>\n",
       "      <td>0.0</td>\n",
       "      <td>1469</td>\n",
       "      <td>11</td>\n",
       "      <td>LabFNroot</td>\n",
       "      <td>#12884</td>\n",
       "      <td>10</td>\n",
       "      <td>1089</td>\n",
       "    </tr>\n",
       "    <tr>\n",
       "      <th>16199</th>\n",
       "      <td>1432.03464284+-0.0006</td>\n",
       "      <td>0.0</td>\n",
       "      <td>1470</td>\n",
       "      <td>11</td>\n",
       "      <td>LabFNroot</td>\n",
       "      <td>#12900</td>\n",
       "      <td>10</td>\n",
       "      <td>838</td>\n",
       "    </tr>\n",
       "    <tr>\n",
       "      <th>16200</th>\n",
       "      <td>1434.0053107+-0.2509</td>\n",
       "      <td>0.0</td>\n",
       "      <td>1471</td>\n",
       "      <td>11</td>\n",
       "      <td>LabFNroot</td>\n",
       "      <td>#12901</td>\n",
       "      <td>10</td>\n",
       "      <td>1176</td>\n",
       "    </tr>\n",
       "    <tr>\n",
       "      <th>16201</th>\n",
       "      <td>1474.08143591+-0.0001</td>\n",
       "      <td>0.0</td>\n",
       "      <td>1472</td>\n",
       "      <td>11</td>\n",
       "      <td>LabFNroot</td>\n",
       "      <td>#12902</td>\n",
       "      <td>10</td>\n",
       "      <td>66</td>\n",
       "    </tr>\n",
       "    <tr>\n",
       "      <th>16202</th>\n",
       "      <td>1488.09746559+-0.0003</td>\n",
       "      <td>0.0</td>\n",
       "      <td>1473</td>\n",
       "      <td>11</td>\n",
       "      <td>LabFNroot</td>\n",
       "      <td>#12904</td>\n",
       "      <td>10</td>\n",
       "      <td>1436</td>\n",
       "    </tr>\n",
       "  </tbody>\n",
       "</table>\n",
       "</div>"
      ],
      "text/plain": [
       "                        Mass  value   col  row        var    cmpd  hrow  hcol\n",
       "16198  1264.60830536+-0.0004    0.0  1469   11  LabFNroot  #12884    10  1089\n",
       "16199  1432.03464284+-0.0006    0.0  1470   11  LabFNroot  #12900    10   838\n",
       "16200   1434.0053107+-0.2509    0.0  1471   11  LabFNroot  #12901    10  1176\n",
       "16201  1474.08143591+-0.0001    0.0  1472   11  LabFNroot  #12902    10    66\n",
       "16202  1488.09746559+-0.0003    0.0  1473   11  LabFNroot  #12904    10  1436"
      ]
     },
     "execution_count": 120,
     "metadata": {},
     "output_type": "execute_result"
    }
   ],
   "source": [
    "melt2.tail()"
   ]
  },
  {
   "cell_type": "code",
   "execution_count": null,
   "metadata": {
    "collapsed": true
   },
   "outputs": [],
   "source": []
  }
 ],
 "metadata": {
  "kernelspec": {
   "display_name": "Python 2",
   "language": "python",
   "name": "python2"
  },
  "language_info": {
   "codemirror_mode": {
    "name": "ipython",
    "version": 2
   },
   "file_extension": ".py",
   "mimetype": "text/x-python",
   "name": "python",
   "nbconvert_exporter": "python",
   "pygments_lexer": "ipython2",
   "version": "2.7.13"
  }
 },
 "nbformat": 4,
 "nbformat_minor": 0
}
