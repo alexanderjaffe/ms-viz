{
 "cells": [
  {
   "cell_type": "code",
   "execution_count": 1,
   "metadata": {
    "collapsed": true
   },
   "outputs": [],
   "source": [
    "import subprocess"
   ]
  },
  {
   "cell_type": "code",
   "execution_count": null,
   "metadata": {
    "collapsed": true
   },
   "outputs": [],
   "source": [
    "def run_analysis(mapping):\n",
    "    \n",
    "    subprocess.call(\"python ../../mzStats/preprocess_data.py -o compounds_table.txt -i \" + mapping, shell=True)\n",
    "    \n",
    "    subprocess.call(\"python ../../mzStats/filter_data.py -i compounds_table.txt -z 400 \\\n",
    "        --filter_singletons -m \" + mapping, shell=True)"
   ]
  },
  {
   "cell_type": "code",
   "execution_count": 3,
   "metadata": {
    "collapsed": true
   },
   "outputs": [],
   "source": [
    "def tabulate(param, results, out_file):\n",
    "    \n",
    "    cmpd_no = subprocess.call(\"wc -l \" + results)\n",
    "    print cmpd_no\n",
    "    \n",
    "    out_file.write(str(param) + \"\\t\" + str(cmpd_no))"
   ]
  },
  {
   "cell_type": "markdown",
   "metadata": {},
   "source": [
    "# testing sample number"
   ]
  },
  {
   "cell_type": "code",
   "execution_count": 4,
   "metadata": {
    "collapsed": false
   },
   "outputs": [],
   "source": [
    "# read in mapping file as lines\n",
    "with open(\"subset_mapping.txt\") as in_file:\n",
    "    mapping = in_file.readlines()\n",
    "\n",
    "results = open(\"results.txt\", \"w\")\n",
    "results.write(\"sample_count\\tunique_cmpds\")\n",
    "\n",
    "# for # samples incrementing by 1...\n",
    "#for k in range(2, (len(mapping)+1)):\n",
    "\n",
    "for k in range(3, 4):\n",
    "    # create a mapping file\n",
    "    out_file = open(\"mapping/mapping_\" + str(k-1) + \"samples\" + \".txt\",\"w\")\n",
    "    # write out header\n",
    "    out_file.write(mapping[0])\n",
    "    \n",
    "    for i in range(1, k):\n",
    "        out_file.write(mapping[i])\n",
    "    \n",
    "    out_file.close()\n",
    "    \n",
    "    # do the analysis\n",
    "    basename = \"mapping/mapping_\" + str(k-1) + \"samples\" + \".txt\"\n",
    "    run_analysis(basename)\n",
    "    \n",
    "    # tabulate results\n",
    "    #results_f = \"cmpd_tables/\"\n",
    "    #tabulate((k-1), )"
   ]
  },
  {
   "cell_type": "markdown",
   "metadata": {},
   "source": [
    "# testing filtering threshold"
   ]
  },
  {
   "cell_type": "code",
   "execution_count": null,
   "metadata": {
    "collapsed": true
   },
   "outputs": [],
   "source": []
  }
 ],
 "metadata": {
  "kernelspec": {
   "display_name": "Python 2",
   "language": "python",
   "name": "python2"
  },
  "language_info": {
   "codemirror_mode": {
    "name": "ipython",
    "version": 2
   },
   "file_extension": ".py",
   "mimetype": "text/x-python",
   "name": "python",
   "nbconvert_exporter": "python",
   "pygments_lexer": "ipython2",
   "version": "2.7.13"
  }
 },
 "nbformat": 4,
 "nbformat_minor": 0
}
